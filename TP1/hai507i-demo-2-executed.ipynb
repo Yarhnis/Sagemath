{
 "cells": [
  {
   "cell_type": "code",
   "execution_count": 129,
   "metadata": {},
   "outputs": [],
   "source": [
    "%display latex\n",
    "%display default"
   ]
  },
  {
   "cell_type": "markdown",
   "metadata": {},
   "source": [
    "## Précision numérique"
   ]
  },
  {
   "cell_type": "markdown",
   "metadata": {},
   "source": [
    "Par défaut, les nombres flottants et les calculs flottants sont fait avec une précision de 53 bits"
   ]
  },
  {
   "cell_type": "code",
   "execution_count": 130,
   "metadata": {
    "scrolled": true
   },
   "outputs": [
    {
     "data": {
      "text/plain": [
       "Real Field with 53 bits of precision"
      ]
     },
     "execution_count": 130,
     "metadata": {},
     "output_type": "execute_result"
    }
   ],
   "source": [
    "a= 3.0\n",
    "a.parent()"
   ]
  },
  {
   "cell_type": "code",
   "execution_count": 131,
   "metadata": {},
   "outputs": [
    {
     "data": {
      "text/plain": [
       "53"
      ]
     },
     "execution_count": 131,
     "metadata": {},
     "output_type": "execute_result"
    }
   ],
   "source": [
    "a.precision()"
   ]
  },
  {
   "cell_type": "code",
   "execution_count": 132,
   "metadata": {},
   "outputs": [
    {
     "data": {
      "text/plain": [
       "Real Field with 53 bits of precision"
      ]
     },
     "execution_count": 132,
     "metadata": {},
     "output_type": "execute_result"
    }
   ],
   "source": [
    "(1.0/3.0).parent()"
   ]
  },
  {
   "cell_type": "code",
   "execution_count": 133,
   "metadata": {},
   "outputs": [
    {
     "name": "stdout",
     "output_type": "stream",
     "text": [
      "1/3 Rational Field\n",
      "0.333333333333333 Real Field with 53 bits of precision\n",
      "0.333333333333333 Real Field with 53 bits of precision\n"
     ]
    }
   ],
   "source": [
    "print(1/3, (1/3).parent())\n",
    "print( (1/3).n(), (1/3).n().parent())\n",
    "print(RR(1/3), RR(1/3).parent())\n"
   ]
  },
  {
   "cell_type": "markdown",
   "metadata": {},
   "source": [
    "Les nombres flottants sont définis comme instance de l'objet `RealField`. On peut spécifier la précision de cette objet."
   ]
  },
  {
   "cell_type": "code",
   "execution_count": 134,
   "metadata": {},
   "outputs": [
    {
     "data": {
      "text/plain": [
       "(53, 10, 200)"
      ]
     },
     "execution_count": 134,
     "metadata": {},
     "output_type": "execute_result"
    }
   ],
   "source": [
    "R=RealField()\n",
    "R10=RealField(10)\n",
    "R200=RealField(200)\n",
    "\n",
    "R.precision(), R10.precision(), R200.precision()"
   ]
  },
  {
   "cell_type": "code",
   "execution_count": 135,
   "metadata": {},
   "outputs": [
    {
     "data": {
      "text/plain": [
       "(3.69670656868857e54,\n",
       " 3.6e54,\n",
       " 3.6967065686885807935368708162449489665828918404074416864066e54)"
      ]
     },
     "execution_count": 135,
     "metadata": {},
     "output_type": "execute_result"
    }
   ],
   "source": [
    "a   = R(3.513)\n",
    "a10 = R10(3.513)\n",
    "a200= R200(3.513)\n",
    "\n",
    "a^100, a10^100, a200^100"
   ]
  },
  {
   "cell_type": "markdown",
   "metadata": {},
   "source": [
    "Calcul de $0.3-0.2-0.1$ avec différentes précisions"
   ]
  },
  {
   "cell_type": "code",
   "execution_count": 136,
   "metadata": {},
   "outputs": [
    {
     "data": {
      "text/plain": [
       "(-2.77555756156289e-17,\n",
       " -0.00012,\n",
       " 7.7787690973264271339300800672251553007378152109014589163764e-62)"
      ]
     },
     "execution_count": 136,
     "metadata": {},
     "output_type": "execute_result"
    }
   ],
   "source": [
    "a,b,c=.3,.2,.1\n",
    "a10,b10,c10=R10(.3),R10(.2),R10(.1)\n",
    "a200,b200,c200=R200(.3),R200(.2),R200(.1)\n",
    "a-b-c,a10-b10-c10,a200-b200-c200"
   ]
  },
  {
   "cell_type": "markdown",
   "metadata": {},
   "source": [
    "**Attention:** \n",
    "- si on ne précise pas RealField, la précision est calculée automatiquement.\n",
    "- si les calculs sont mixtes (opérandes avec différentes précisions), les calculs sont fait dans la plus petite précision"
   ]
  },
  {
   "cell_type": "code",
   "execution_count": 137,
   "metadata": {},
   "outputs": [
    {
     "data": {
      "text/plain": [
       "(143, Real Field with 143 bits of precision)"
      ]
     },
     "execution_count": 137,
     "metadata": {},
     "output_type": "execute_result"
    }
   ],
   "source": [
    "a=0.5555555555554033333333323232323233232111117\n",
    "a.precision(), a.parent()"
   ]
  },
  {
   "cell_type": "code",
   "execution_count": 138,
   "metadata": {},
   "outputs": [
    {
     "data": {
      "text/plain": [
       "(-0.00012, -0.00012)"
      ]
     },
     "execution_count": 138,
     "metadata": {},
     "output_type": "execute_result"
    }
   ],
   "source": [
    "a10-b200-c200, a10-b10-c10"
   ]
  },
  {
   "cell_type": "code",
   "execution_count": 139,
   "metadata": {},
   "outputs": [
    {
     "data": {
      "text/plain": [
       "(3.00000024822111e-11, 3.00000000010000e-11, 3.00000024822111e-11)"
      ]
     },
     "execution_count": 139,
     "metadata": {},
     "output_type": "execute_result"
    }
   ],
   "source": [
    "a= 0.1e-20\n",
    "b= 0.1\n",
    "c= 0.3e-10\n",
    "a+b+c-b,b-b+a+c,a+c+b-b"
   ]
  },
  {
   "cell_type": "markdown",
   "metadata": {},
   "source": [
    "**A RETENIR**\n",
    "> - `RealField(p)` est l'objet définissant les approximations flottantes à précision $p$\n",
    "> - `numerical_approx(expr, p)` ou `n(expr,p)` ou `expr.n(p)` retourne l'approximation flottante de l'expression `expr` à précision `p`\n",
    "> - par défaut `RealField(53)` est utilisé (déjà défini dans `RR`)"
   ]
  },
  {
   "cell_type": "markdown",
   "metadata": {},
   "source": [
    "## Exemple de problème de précision"
   ]
  },
  {
   "cell_type": "markdown",
   "metadata": {},
   "source": [
    "### calcul de racine carré"
   ]
  },
  {
   "cell_type": "code",
   "execution_count": 140,
   "metadata": {},
   "outputs": [
    {
     "name": "stdout",
     "output_type": "stream",
     "text": [
      "l'entier b est codée sur 347 bits\n"
     ]
    },
    {
     "data": {
      "text/plain": [
       "1686961934066707040236155036109474174986501789839001*sqrt(51)"
      ]
     },
     "execution_count": 140,
     "metadata": {},
     "output_type": "execute_result"
    }
   ],
   "source": [
    "a=51\n",
    "b=a^61\n",
    "print(\"l'entier b est codée sur \"+str( b.nbits()) + \" bits\")\n",
    "r=sqrt(b)\n",
    "r"
   ]
  },
  {
   "cell_type": "code",
   "execution_count": 141,
   "metadata": {},
   "outputs": [
    {
     "name": "stdout",
     "output_type": "stream",
     "text": [
      "12047317913813611992216795507023424262776490557440000 12047317913813610588023392961569665056411324497659166\n"
     ]
    },
    {
     "data": {
      "text/plain": [
       "(False, True)"
      ]
     },
     "execution_count": 141,
     "metadata": {},
     "output_type": "execute_result"
    }
   ],
   "source": [
    "s   = R(sqrt(b))\n",
    "s200= R200(sqrt(b))\n",
    "print(floor(s),floor(s200))\n",
    "floor(s)^2 <= b <(floor(s)+1)^2,\\\n",
    "floor(s200)^2 <= b <=(floor(s200)+1)^2"
   ]
  },
  {
   "cell_type": "markdown",
   "metadata": {},
   "source": [
    "## résolution de système d'équations linéaires \n"
   ]
  },
  {
   "cell_type": "code",
   "execution_count": 142,
   "metadata": {},
   "outputs": [],
   "source": [
    "N=2\n",
    "MS=MatrixSpace(QQ,N)\n",
    "VS=VectorSpace(QQ,N)\n",
    "A=MS.random_element(density=1,num_bound=10,den_bound=10)\n",
    "b=VS.random_element(num_bound=100,den_bound=100)\n",
    "V=var(list(\"x\"+ str(i) for i in range(N)))\n",
    "X=vector(V)\n",
    "eq=list((A*X)[i]==b[i] for i in range(N))"
   ]
  },
  {
   "cell_type": "markdown",
   "metadata": {},
   "source": [
    "### La fonction `solve`\n",
    "\n",
    "elle prend une liste d'équations symboliques et une liste d'inconnues"
   ]
  },
  {
   "cell_type": "code",
   "execution_count": 143,
   "metadata": {
    "scrolled": true
   },
   "outputs": [
    {
     "name": "stdout",
     "output_type": "stream",
     "text": [
      "variables: (x0, x1)\n",
      "Equations: [-2*x0 + 1/3*x1 == (11/21), -2/3*x0 + 3/2*x1 == (-97/28)]\n"
     ]
    }
   ],
   "source": [
    "print(\"variables:\",V)\n",
    "print(\"Equations:\",eq)\n",
    "#for i in range(N):\n",
    "#    print(eq[i])"
   ]
  },
  {
   "cell_type": "code",
   "execution_count": 144,
   "metadata": {},
   "outputs": [
    {
     "data": {
      "text/plain": [
       "[[x0 == (-489/700), x1 == (-131/50)]]"
      ]
     },
     "execution_count": 144,
     "metadata": {},
     "output_type": "execute_result"
    }
   ],
   "source": [
    "sol=solve(eq, V)\n",
    "sol"
   ]
  },
  {
   "cell_type": "markdown",
   "metadata": {},
   "source": [
    "Est-il possible de faire la même chose mais de faire le calcul numériquement ?"
   ]
  },
  {
   "cell_type": "code",
   "execution_count": 145,
   "metadata": {},
   "outputs": [
    {
     "name": "stdout",
     "output_type": "stream",
     "text": [
      "variables: (x0, x1)\n",
      "Equations: [-2.00000000000000*x0 + 0.333333333333333*x1 == 0.523809523809524, -0.666666666666667*x0 + 1.50000000000000*x1 == -3.46428571428571]\n"
     ]
    }
   ],
   "source": [
    "eqf=list((A.n()*X)[i]==b[i].n() for i in range(N))\n",
    "print(\"variables:\",V)\n",
    "print(\"Equations:\",eqf)\n",
    "#for i in range(N):\n",
    "#    print(eqf[i])"
   ]
  },
  {
   "cell_type": "code",
   "execution_count": 146,
   "metadata": {},
   "outputs": [
    {
     "data": {
      "text/plain": [
       "[[x0 == (-489/700), x1 == (-131/50)]]"
      ]
     },
     "execution_count": 146,
     "metadata": {},
     "output_type": "execute_result"
    }
   ],
   "source": [
    "solf=solve(eqf,V)\n",
    "solf"
   ]
  },
  {
   "cell_type": "markdown",
   "metadata": {},
   "source": [
    "Quoi, le résultat est le même !!!\n",
    "\n",
    "En fait, `solve` fait appel à une méthode de résolution symbolique. \n",
    "Cela implique que les réels sont transformées en nombre rationnel lors de la résolution. "
   ]
  },
  {
   "cell_type": "markdown",
   "metadata": {},
   "source": [
    "### l'algèbre linéaire"
   ]
  },
  {
   "cell_type": "code",
   "execution_count": 147,
   "metadata": {},
   "outputs": [
    {
     "data": {
      "text/html": [
       "<html><script type=\"math/tex; mode=display\">\\newcommand{\\Bold}[1]{\\mathbf{#1}}\\left[-2 \\, x_{0} + \\frac{1}{3} \\, x_{1} = \\left(\\frac{11}{21}\\right), -\\frac{2}{3} \\, x_{0} + \\frac{3}{2} \\, x_{1} = \\left(-\\frac{97}{28}\\right)\\right]</script></html>"
      ],
      "text/latex": [
       "$$\\newcommand{\\Bold}[1]{\\mathbf{#1}}\\left[-2 \\, x_{0} + \\frac{1}{3} \\, x_{1} = \\left(\\frac{11}{21}\\right), -\\frac{2}{3} \\, x_{0} + \\frac{3}{2} \\, x_{1} = \\left(-\\frac{97}{28}\\right)\\right]$$"
      ],
      "text/plain": [
       "[-2*x0 + 1/3*x1 == (11/21), -2/3*x0 + 3/2*x1 == (-97/28)]"
      ]
     },
     "metadata": {},
     "output_type": "display_data"
    }
   ],
   "source": [
    "show(eq)"
   ]
  },
  {
   "cell_type": "code",
   "execution_count": 148,
   "metadata": {},
   "outputs": [
    {
     "data": {
      "text/html": [
       "<html><script type=\"math/tex; mode=display\">\\newcommand{\\Bold}[1]{\\mathbf{#1}}\\left(\\begin{array}{rr}\n",
       "-2 & \\frac{1}{3} \\\\\n",
       "-\\frac{2}{3} & \\frac{3}{2}\n",
       "\\end{array}\\right) \\left(x_{0}, x_{1}\\right) \\left(\\frac{11}{21},\\,-\\frac{97}{28}\\right)</script></html>"
      ],
      "text/latex": [
       "$$\\newcommand{\\Bold}[1]{\\mathbf{#1}}\\left(\\begin{array}{rr}\n",
       "-2 & \\frac{1}{3} \\\\\n",
       "-\\frac{2}{3} & \\frac{3}{2}\n",
       "\\end{array}\\right) \\left(x_{0}, x_{1}\\right) \\left(\\frac{11}{21},\\,-\\frac{97}{28}\\right)$$"
      ],
      "text/plain": [
       "[  -2  1/3]\n",
       "[-2/3  3/2] (x0, x1) (11/21, -97/28)"
      ]
     },
     "metadata": {},
     "output_type": "display_data"
    }
   ],
   "source": [
    "show(A, (V), b)"
   ]
  },
  {
   "cell_type": "code",
   "execution_count": 149,
   "metadata": {},
   "outputs": [
    {
     "data": {
      "text/html": [
       "<html><script type=\"math/tex; mode=display\">\\newcommand{\\Bold}[1]{\\mathbf{#1}}\\left(-\\frac{489}{700},\\,-\\frac{131}{50}\\right)</script></html>"
      ],
      "text/latex": [
       "$$\\newcommand{\\Bold}[1]{\\mathbf{#1}}\\left(-\\frac{489}{700},\\,-\\frac{131}{50}\\right)$$"
      ],
      "text/plain": [
       "(-489/700, -131/50)"
      ]
     },
     "metadata": {},
     "output_type": "display_data"
    }
   ],
   "source": [
    "y=A.solve_right(b)\n",
    "show(y)"
   ]
  },
  {
   "cell_type": "markdown",
   "metadata": {},
   "source": [
    "Pareil mais en numérique"
   ]
  },
  {
   "cell_type": "code",
   "execution_count": 150,
   "metadata": {},
   "outputs": [
    {
     "data": {
      "text/html": [
       "<html><script type=\"math/tex; mode=display\">\\newcommand{\\Bold}[1]{\\mathbf{#1}}\\left(\\begin{array}{rr}\n",
       "-2.00000000000000 & 0.333333333333333 \\\\\n",
       "-0.666666666666667 & 1.50000000000000\n",
       "\\end{array}\\right) \\left(x_{0}, x_{1}\\right) \\left(0.523809523809524,\\,-3.46428571428571\\right)</script></html>"
      ],
      "text/latex": [
       "$$\\newcommand{\\Bold}[1]{\\mathbf{#1}}\\left(\\begin{array}{rr}\n",
       "-2.00000000000000 & 0.333333333333333 \\\\\n",
       "-0.666666666666667 & 1.50000000000000\n",
       "\\end{array}\\right) \\left(x_{0}, x_{1}\\right) \\left(0.523809523809524,\\,-3.46428571428571\\right)$$"
      ],
      "text/plain": [
       "[ -2.00000000000000  0.333333333333333]\n",
       "[-0.666666666666667   1.50000000000000] (x0, x1) (0.523809523809524, -3.46428571428571)"
      ]
     },
     "metadata": {},
     "output_type": "display_data"
    }
   ],
   "source": [
    "Af=A.numerical_approx()\n",
    "bf=b.n()\n",
    "show(Af,V,bf)"
   ]
  },
  {
   "cell_type": "code",
   "execution_count": 151,
   "metadata": {},
   "outputs": [
    {
     "data": {
      "text/html": [
       "<html><script type=\"math/tex; mode=display\">\\newcommand{\\Bold}[1]{\\mathbf{#1}}\\left(-0.698571428571429,\\,-2.62000000000000\\right)</script></html>"
      ],
      "text/latex": [
       "$$\\newcommand{\\Bold}[1]{\\mathbf{#1}}\\left(-0.698571428571429,\\,-2.62000000000000\\right)$$"
      ],
      "text/plain": [
       "(-0.698571428571429, -2.62000000000000)"
      ]
     },
     "metadata": {},
     "output_type": "display_data"
    }
   ],
   "source": [
    "yf=Af.solve_right(bf)\n",
    "show(yf)"
   ]
  },
  {
   "cell_type": "code",
   "execution_count": 152,
   "metadata": {},
   "outputs": [
    {
     "data": {
      "text/plain": [
       "(-1.11022302462516e-16, -4.44089209850063e-16)"
      ]
     },
     "execution_count": 152,
     "metadata": {},
     "output_type": "execute_result"
    }
   ],
   "source": [
    "# difference des solutions\n",
    "y.n()-yf"
   ]
  },
  {
   "cell_type": "markdown",
   "metadata": {},
   "source": [
    "Tout pareil mais en plus grand"
   ]
  },
  {
   "cell_type": "code",
   "execution_count": 153,
   "metadata": {},
   "outputs": [],
   "source": [
    "N=80\n",
    "MS=MatrixSpace(QQ,N)\n",
    "VS=VectorSpace(QQ,N)\n",
    "A=MS.random_element(density=1,num_bound=100,den_bound=100)\n",
    "b=VS.random_element(num_bound=100,den_bound=100)\n"
   ]
  },
  {
   "cell_type": "code",
   "execution_count": 154,
   "metadata": {
    "scrolled": true
   },
   "outputs": [
    {
     "name": "stdout",
     "output_type": "stream",
     "text": [
      "CPU times: user 13.2 s, sys: 106 ms, total: 13.3 s\n",
      "Wall time: 13.4 s\n"
     ]
    }
   ],
   "source": [
    "#print(A,b)\n",
    "%time y=A.solve_right(b)"
   ]
  },
  {
   "cell_type": "code",
   "execution_count": 155,
   "metadata": {},
   "outputs": [
    {
     "data": {
      "text/plain": [
       "-197730178838781139905099057462105891930242788229998362669000658554157431353065606318105983413896123071982986534104383484001333316780311096109346484287114399681498946089645434483868668062745621745932582372750110493141788685354527230708737302905839008202119375914677078998699633355979339217806084905672074873100618985975414122877719821835081428902846861318498598226915934569875445188071335217549087844385612400578903834197660444651281767680154756527804262416850046693165291897929409319626014805413138691853736328988453268555279494093986342507964819180034699164309263928869689099371976431365859643341444030668849824214697138168122031505394190608480522971956640271750583425217475266742566990166602830481437780941789327316035572906131367309543015959423943659143385795007931587587154391484297891153197376757752081539208874037449515910535781582792473873751721509650655315793540229450583961749908409731630332246770045867563533606976487497343757122520130386412286028751881254947737778192750291823382092211772673037077633626816943256223449991809426989342377853312880856370107814951900403907447582116061188770985323789259849894031320462914445488740246430721789697753418040109452636439546244749841089921993906594385544938834495368484736879233847086521727654875309168021269295991853871159280294057089852155724087406183887596362626687175776981118066729744093558016306154298287833110137455069526956313075875817888970029973335693470768348638593440690917511761743568996833322484071885071802970360062388198027328795434170208206780710423775311904807682851040806355288870235639654551306599376567021078371595160237736332468991894088750650731250009288412164415733335503442133611177665741964531298987890220159774447393509612397976183524567254313744237207273612046226522573641245290977798064432722397219272216251027892976215281531371032754914434194650951415537206329024824818238314747349747274677896974233034586154652961804803746305792768260093211994901460661548349115367091470939326003499222910935601425487420073093309512972276473160101891967942804041572769818303389588576005723560428326817018262720243372732242464571015420752215737385706975432001684871002487425807988842113275899793259685694862973614862476734725745426178531666772012616480317228307205988678604367834887026644893730016174063599552204100727738430/573234472631134250385271508023341133421448002338032711483619403708208504215288006695467712429248444936401360744918423964146045358598511494941269322922382943666234557380609835986593988291348657737566624088175450162702769917409958638803240427499236733369854893778422764283019486602748338696552646668779658900034123225626956503431766313138573214674470363399552374616353239816188318932518951290095099251535051881263905703893427743373111544832661342226481179303474418858490585945023278969055503568117456635242030679787591833971913684471736872274392797396033546299279022338905424363988352279129531218249743356114657645532289335814752383034048592429077347942214627948030262312907494865922524815517266902429378785630796513203159197942523790935924224806379881198837813789734995087782797236360428970805460759106167853868493553913844373926201160878968884571806841493954378612253189273035818138462460191366745758261229652519386103165900648919954381282925904994022703541164826507453056104218941881802667727297510762680080537310782085117863857706940923116755147507858712558934179224950375693967519300321205213758057002997782713377324859957642418525514051412666072832988514072102090315912625891363455365476199001189153145993380021028098492854553503349075439724463473552875447307297827064897667460550785625633773928112385614632348479098676699763499215602914801556778169959035205801386452773109778205683391381072516161482431209557698057686586630730036731933070253840804084871960820103339449849042186229481227735800655976677523250168923009700721997985247095681586443377230215485117454294593899995285908774795909928594771049861315942174815940932858327454903575653162844992590181856114502496492019034082895010259399566197134187369717087443716619878504290723658243231312311546048637233255804675926261910742213718608098283273021862668390919038070478509238145800025368434193350017946998664911946972414459203446977108405914595868288834424429346025512585933669910793722713203818744290147719406886460120288268014406693065895074997506451164320864789220856743566338531121990944885150995719273602106465321105548967242982272821955910400624101414006864248032508041261312709643030734587419068222724707517344817873618035251940783262767697204663107245433795469423320550437397353041086614838816894593359322866115654516222963"
      ]
     },
     "execution_count": 155,
     "metadata": {},
     "output_type": "execute_result"
    }
   ],
   "source": [
    "y[0]"
   ]
  },
  {
   "cell_type": "code",
   "execution_count": 156,
   "metadata": {},
   "outputs": [
    {
     "name": "stdout",
     "output_type": "stream",
     "text": [
      "num(y[0])= -197730178838781139905099057462105891930242788229998362669000658554157431353065606318105983413896123071982986534104383484001333316780311096109346484287114399681498946089645434483868668062745621745932582372750110493141788685354527230708737302905839008202119375914677078998699633355979339217806084905672074873100618985975414122877719821835081428902846861318498598226915934569875445188071335217549087844385612400578903834197660444651281767680154756527804262416850046693165291897929409319626014805413138691853736328988453268555279494093986342507964819180034699164309263928869689099371976431365859643341444030668849824214697138168122031505394190608480522971956640271750583425217475266742566990166602830481437780941789327316035572906131367309543015959423943659143385795007931587587154391484297891153197376757752081539208874037449515910535781582792473873751721509650655315793540229450583961749908409731630332246770045867563533606976487497343757122520130386412286028751881254947737778192750291823382092211772673037077633626816943256223449991809426989342377853312880856370107814951900403907447582116061188770985323789259849894031320462914445488740246430721789697753418040109452636439546244749841089921993906594385544938834495368484736879233847086521727654875309168021269295991853871159280294057089852155724087406183887596362626687175776981118066729744093558016306154298287833110137455069526956313075875817888970029973335693470768348638593440690917511761743568996833322484071885071802970360062388198027328795434170208206780710423775311904807682851040806355288870235639654551306599376567021078371595160237736332468991894088750650731250009288412164415733335503442133611177665741964531298987890220159774447393509612397976183524567254313744237207273612046226522573641245290977798064432722397219272216251027892976215281531371032754914434194650951415537206329024824818238314747349747274677896974233034586154652961804803746305792768260093211994901460661548349115367091470939326003499222910935601425487420073093309512972276473160101891967942804041572769818303389588576005723560428326817018262720243372732242464571015420752215737385706975432001684871002487425807988842113275899793259685694862973614862476734725745426178531666772012616480317228307205988678604367834887026644893730016174063599552204100727738430 \n",
      "\n",
      "den(y[0])= 573234472631134250385271508023341133421448002338032711483619403708208504215288006695467712429248444936401360744918423964146045358598511494941269322922382943666234557380609835986593988291348657737566624088175450162702769917409958638803240427499236733369854893778422764283019486602748338696552646668779658900034123225626956503431766313138573214674470363399552374616353239816188318932518951290095099251535051881263905703893427743373111544832661342226481179303474418858490585945023278969055503568117456635242030679787591833971913684471736872274392797396033546299279022338905424363988352279129531218249743356114657645532289335814752383034048592429077347942214627948030262312907494865922524815517266902429378785630796513203159197942523790935924224806379881198837813789734995087782797236360428970805460759106167853868493553913844373926201160878968884571806841493954378612253189273035818138462460191366745758261229652519386103165900648919954381282925904994022703541164826507453056104218941881802667727297510762680080537310782085117863857706940923116755147507858712558934179224950375693967519300321205213758057002997782713377324859957642418525514051412666072832988514072102090315912625891363455365476199001189153145993380021028098492854553503349075439724463473552875447307297827064897667460550785625633773928112385614632348479098676699763499215602914801556778169959035205801386452773109778205683391381072516161482431209557698057686586630730036731933070253840804084871960820103339449849042186229481227735800655976677523250168923009700721997985247095681586443377230215485117454294593899995285908774795909928594771049861315942174815940932858327454903575653162844992590181856114502496492019034082895010259399566197134187369717087443716619878504290723658243231312311546048637233255804675926261910742213718608098283273021862668390919038070478509238145800025368434193350017946998664911946972414459203446977108405914595868288834424429346025512585933669910793722713203818744290147719406886460120288268014406693065895074997506451164320864789220856743566338531121990944885150995719273602106465321105548967242982272821955910400624101414006864248032508041261312709643030734587419068222724707517344817873618035251940783262767697204663107245433795469423320550437397353041086614838816894593359322866115654516222963\n"
     ]
    }
   ],
   "source": [
    "print(\"num(y[0])=\",y[0].numerator(),'\\n')\n",
    "print(\"den(y[0])=\",y[0].denominator())"
   ]
  },
  {
   "cell_type": "code",
   "execution_count": 157,
   "metadata": {},
   "outputs": [
    {
     "name": "stdout",
     "output_type": "stream",
     "text": [
      "CPU times: user 284 ms, sys: 3.6 ms, total: 287 ms\n",
      "Wall time: 289 ms\n"
     ]
    }
   ],
   "source": [
    "Af=A.n()\n",
    "bf=b.n()\n",
    "%time yf= Af.solve_right(bf)"
   ]
  },
  {
   "cell_type": "code",
   "execution_count": 158,
   "metadata": {},
   "outputs": [
    {
     "name": "stdout",
     "output_type": "stream",
     "text": [
      "yf[0]= -0.344937697019949\n"
     ]
    },
    {
     "data": {
      "text/plain": [
       "(5.31608090881264e-12, -4.24127399867302e-12)"
      ]
     },
     "execution_count": 158,
     "metadata": {},
     "output_type": "execute_result"
    }
   ],
   "source": [
    "print(\"yf[0]=\",yf[0])\n",
    "#erreur commise par la résolution numérique\n",
    "y[0]-yf[0], (Af*yf)[0]- bf[0]"
   ]
  },
  {
   "cell_type": "code",
   "execution_count": 159,
   "metadata": {},
   "outputs": [
    {
     "data": {
      "text/html": [
       "<html><script type=\"math/tex; mode=display\">\\newcommand{\\Bold}[1]{\\mathbf{#1}}\\left(\\begin{array}{rrrrrrrrrrrrrrrrrrrr}\n",
       "1 & \\frac{1}{2} & \\frac{1}{3} & \\frac{1}{4} & \\frac{1}{5} & \\frac{1}{6} & \\frac{1}{7} & \\frac{1}{8} & \\frac{1}{9} & \\frac{1}{10} & \\frac{1}{11} & \\frac{1}{12} & \\frac{1}{13} & \\frac{1}{14} & \\frac{1}{15} & \\frac{1}{16} & \\frac{1}{17} & \\frac{1}{18} & \\frac{1}{19} & \\frac{1}{20} \\\\\n",
       "\\frac{1}{2} & \\frac{1}{3} & \\frac{1}{4} & \\frac{1}{5} & \\frac{1}{6} & \\frac{1}{7} & \\frac{1}{8} & \\frac{1}{9} & \\frac{1}{10} & \\frac{1}{11} & \\frac{1}{12} & \\frac{1}{13} & \\frac{1}{14} & \\frac{1}{15} & \\frac{1}{16} & \\frac{1}{17} & \\frac{1}{18} & \\frac{1}{19} & \\frac{1}{20} & \\frac{1}{21} \\\\\n",
       "\\frac{1}{3} & \\frac{1}{4} & \\frac{1}{5} & \\frac{1}{6} & \\frac{1}{7} & \\frac{1}{8} & \\frac{1}{9} & \\frac{1}{10} & \\frac{1}{11} & \\frac{1}{12} & \\frac{1}{13} & \\frac{1}{14} & \\frac{1}{15} & \\frac{1}{16} & \\frac{1}{17} & \\frac{1}{18} & \\frac{1}{19} & \\frac{1}{20} & \\frac{1}{21} & \\frac{1}{22} \\\\\n",
       "\\frac{1}{4} & \\frac{1}{5} & \\frac{1}{6} & \\frac{1}{7} & \\frac{1}{8} & \\frac{1}{9} & \\frac{1}{10} & \\frac{1}{11} & \\frac{1}{12} & \\frac{1}{13} & \\frac{1}{14} & \\frac{1}{15} & \\frac{1}{16} & \\frac{1}{17} & \\frac{1}{18} & \\frac{1}{19} & \\frac{1}{20} & \\frac{1}{21} & \\frac{1}{22} & \\frac{1}{23} \\\\\n",
       "\\frac{1}{5} & \\frac{1}{6} & \\frac{1}{7} & \\frac{1}{8} & \\frac{1}{9} & \\frac{1}{10} & \\frac{1}{11} & \\frac{1}{12} & \\frac{1}{13} & \\frac{1}{14} & \\frac{1}{15} & \\frac{1}{16} & \\frac{1}{17} & \\frac{1}{18} & \\frac{1}{19} & \\frac{1}{20} & \\frac{1}{21} & \\frac{1}{22} & \\frac{1}{23} & \\frac{1}{24} \\\\\n",
       "\\frac{1}{6} & \\frac{1}{7} & \\frac{1}{8} & \\frac{1}{9} & \\frac{1}{10} & \\frac{1}{11} & \\frac{1}{12} & \\frac{1}{13} & \\frac{1}{14} & \\frac{1}{15} & \\frac{1}{16} & \\frac{1}{17} & \\frac{1}{18} & \\frac{1}{19} & \\frac{1}{20} & \\frac{1}{21} & \\frac{1}{22} & \\frac{1}{23} & \\frac{1}{24} & \\frac{1}{25} \\\\\n",
       "\\frac{1}{7} & \\frac{1}{8} & \\frac{1}{9} & \\frac{1}{10} & \\frac{1}{11} & \\frac{1}{12} & \\frac{1}{13} & \\frac{1}{14} & \\frac{1}{15} & \\frac{1}{16} & \\frac{1}{17} & \\frac{1}{18} & \\frac{1}{19} & \\frac{1}{20} & \\frac{1}{21} & \\frac{1}{22} & \\frac{1}{23} & \\frac{1}{24} & \\frac{1}{25} & \\frac{1}{26} \\\\\n",
       "\\frac{1}{8} & \\frac{1}{9} & \\frac{1}{10} & \\frac{1}{11} & \\frac{1}{12} & \\frac{1}{13} & \\frac{1}{14} & \\frac{1}{15} & \\frac{1}{16} & \\frac{1}{17} & \\frac{1}{18} & \\frac{1}{19} & \\frac{1}{20} & \\frac{1}{21} & \\frac{1}{22} & \\frac{1}{23} & \\frac{1}{24} & \\frac{1}{25} & \\frac{1}{26} & \\frac{1}{27} \\\\\n",
       "\\frac{1}{9} & \\frac{1}{10} & \\frac{1}{11} & \\frac{1}{12} & \\frac{1}{13} & \\frac{1}{14} & \\frac{1}{15} & \\frac{1}{16} & \\frac{1}{17} & \\frac{1}{18} & \\frac{1}{19} & \\frac{1}{20} & \\frac{1}{21} & \\frac{1}{22} & \\frac{1}{23} & \\frac{1}{24} & \\frac{1}{25} & \\frac{1}{26} & \\frac{1}{27} & \\frac{1}{28} \\\\\n",
       "\\frac{1}{10} & \\frac{1}{11} & \\frac{1}{12} & \\frac{1}{13} & \\frac{1}{14} & \\frac{1}{15} & \\frac{1}{16} & \\frac{1}{17} & \\frac{1}{18} & \\frac{1}{19} & \\frac{1}{20} & \\frac{1}{21} & \\frac{1}{22} & \\frac{1}{23} & \\frac{1}{24} & \\frac{1}{25} & \\frac{1}{26} & \\frac{1}{27} & \\frac{1}{28} & \\frac{1}{29} \\\\\n",
       "\\frac{1}{11} & \\frac{1}{12} & \\frac{1}{13} & \\frac{1}{14} & \\frac{1}{15} & \\frac{1}{16} & \\frac{1}{17} & \\frac{1}{18} & \\frac{1}{19} & \\frac{1}{20} & \\frac{1}{21} & \\frac{1}{22} & \\frac{1}{23} & \\frac{1}{24} & \\frac{1}{25} & \\frac{1}{26} & \\frac{1}{27} & \\frac{1}{28} & \\frac{1}{29} & \\frac{1}{30} \\\\\n",
       "\\frac{1}{12} & \\frac{1}{13} & \\frac{1}{14} & \\frac{1}{15} & \\frac{1}{16} & \\frac{1}{17} & \\frac{1}{18} & \\frac{1}{19} & \\frac{1}{20} & \\frac{1}{21} & \\frac{1}{22} & \\frac{1}{23} & \\frac{1}{24} & \\frac{1}{25} & \\frac{1}{26} & \\frac{1}{27} & \\frac{1}{28} & \\frac{1}{29} & \\frac{1}{30} & \\frac{1}{31} \\\\\n",
       "\\frac{1}{13} & \\frac{1}{14} & \\frac{1}{15} & \\frac{1}{16} & \\frac{1}{17} & \\frac{1}{18} & \\frac{1}{19} & \\frac{1}{20} & \\frac{1}{21} & \\frac{1}{22} & \\frac{1}{23} & \\frac{1}{24} & \\frac{1}{25} & \\frac{1}{26} & \\frac{1}{27} & \\frac{1}{28} & \\frac{1}{29} & \\frac{1}{30} & \\frac{1}{31} & \\frac{1}{32} \\\\\n",
       "\\frac{1}{14} & \\frac{1}{15} & \\frac{1}{16} & \\frac{1}{17} & \\frac{1}{18} & \\frac{1}{19} & \\frac{1}{20} & \\frac{1}{21} & \\frac{1}{22} & \\frac{1}{23} & \\frac{1}{24} & \\frac{1}{25} & \\frac{1}{26} & \\frac{1}{27} & \\frac{1}{28} & \\frac{1}{29} & \\frac{1}{30} & \\frac{1}{31} & \\frac{1}{32} & \\frac{1}{33} \\\\\n",
       "\\frac{1}{15} & \\frac{1}{16} & \\frac{1}{17} & \\frac{1}{18} & \\frac{1}{19} & \\frac{1}{20} & \\frac{1}{21} & \\frac{1}{22} & \\frac{1}{23} & \\frac{1}{24} & \\frac{1}{25} & \\frac{1}{26} & \\frac{1}{27} & \\frac{1}{28} & \\frac{1}{29} & \\frac{1}{30} & \\frac{1}{31} & \\frac{1}{32} & \\frac{1}{33} & \\frac{1}{34} \\\\\n",
       "\\frac{1}{16} & \\frac{1}{17} & \\frac{1}{18} & \\frac{1}{19} & \\frac{1}{20} & \\frac{1}{21} & \\frac{1}{22} & \\frac{1}{23} & \\frac{1}{24} & \\frac{1}{25} & \\frac{1}{26} & \\frac{1}{27} & \\frac{1}{28} & \\frac{1}{29} & \\frac{1}{30} & \\frac{1}{31} & \\frac{1}{32} & \\frac{1}{33} & \\frac{1}{34} & \\frac{1}{35} \\\\\n",
       "\\frac{1}{17} & \\frac{1}{18} & \\frac{1}{19} & \\frac{1}{20} & \\frac{1}{21} & \\frac{1}{22} & \\frac{1}{23} & \\frac{1}{24} & \\frac{1}{25} & \\frac{1}{26} & \\frac{1}{27} & \\frac{1}{28} & \\frac{1}{29} & \\frac{1}{30} & \\frac{1}{31} & \\frac{1}{32} & \\frac{1}{33} & \\frac{1}{34} & \\frac{1}{35} & \\frac{1}{36} \\\\\n",
       "\\frac{1}{18} & \\frac{1}{19} & \\frac{1}{20} & \\frac{1}{21} & \\frac{1}{22} & \\frac{1}{23} & \\frac{1}{24} & \\frac{1}{25} & \\frac{1}{26} & \\frac{1}{27} & \\frac{1}{28} & \\frac{1}{29} & \\frac{1}{30} & \\frac{1}{31} & \\frac{1}{32} & \\frac{1}{33} & \\frac{1}{34} & \\frac{1}{35} & \\frac{1}{36} & \\frac{1}{37} \\\\\n",
       "\\frac{1}{19} & \\frac{1}{20} & \\frac{1}{21} & \\frac{1}{22} & \\frac{1}{23} & \\frac{1}{24} & \\frac{1}{25} & \\frac{1}{26} & \\frac{1}{27} & \\frac{1}{28} & \\frac{1}{29} & \\frac{1}{30} & \\frac{1}{31} & \\frac{1}{32} & \\frac{1}{33} & \\frac{1}{34} & \\frac{1}{35} & \\frac{1}{36} & \\frac{1}{37} & \\frac{1}{38} \\\\\n",
       "\\frac{1}{20} & \\frac{1}{21} & \\frac{1}{22} & \\frac{1}{23} & \\frac{1}{24} & \\frac{1}{25} & \\frac{1}{26} & \\frac{1}{27} & \\frac{1}{28} & \\frac{1}{29} & \\frac{1}{30} & \\frac{1}{31} & \\frac{1}{32} & \\frac{1}{33} & \\frac{1}{34} & \\frac{1}{35} & \\frac{1}{36} & \\frac{1}{37} & \\frac{1}{38} & \\frac{1}{39}\n",
       "\\end{array}\\right)</script></html>"
      ],
      "text/latex": [
       "$$\\newcommand{\\Bold}[1]{\\mathbf{#1}}\\left(\\begin{array}{rrrrrrrrrrrrrrrrrrrr}\n",
       "1 & \\frac{1}{2} & \\frac{1}{3} & \\frac{1}{4} & \\frac{1}{5} & \\frac{1}{6} & \\frac{1}{7} & \\frac{1}{8} & \\frac{1}{9} & \\frac{1}{10} & \\frac{1}{11} & \\frac{1}{12} & \\frac{1}{13} & \\frac{1}{14} & \\frac{1}{15} & \\frac{1}{16} & \\frac{1}{17} & \\frac{1}{18} & \\frac{1}{19} & \\frac{1}{20} \\\\\n",
       "\\frac{1}{2} & \\frac{1}{3} & \\frac{1}{4} & \\frac{1}{5} & \\frac{1}{6} & \\frac{1}{7} & \\frac{1}{8} & \\frac{1}{9} & \\frac{1}{10} & \\frac{1}{11} & \\frac{1}{12} & \\frac{1}{13} & \\frac{1}{14} & \\frac{1}{15} & \\frac{1}{16} & \\frac{1}{17} & \\frac{1}{18} & \\frac{1}{19} & \\frac{1}{20} & \\frac{1}{21} \\\\\n",
       "\\frac{1}{3} & \\frac{1}{4} & \\frac{1}{5} & \\frac{1}{6} & \\frac{1}{7} & \\frac{1}{8} & \\frac{1}{9} & \\frac{1}{10} & \\frac{1}{11} & \\frac{1}{12} & \\frac{1}{13} & \\frac{1}{14} & \\frac{1}{15} & \\frac{1}{16} & \\frac{1}{17} & \\frac{1}{18} & \\frac{1}{19} & \\frac{1}{20} & \\frac{1}{21} & \\frac{1}{22} \\\\\n",
       "\\frac{1}{4} & \\frac{1}{5} & \\frac{1}{6} & \\frac{1}{7} & \\frac{1}{8} & \\frac{1}{9} & \\frac{1}{10} & \\frac{1}{11} & \\frac{1}{12} & \\frac{1}{13} & \\frac{1}{14} & \\frac{1}{15} & \\frac{1}{16} & \\frac{1}{17} & \\frac{1}{18} & \\frac{1}{19} & \\frac{1}{20} & \\frac{1}{21} & \\frac{1}{22} & \\frac{1}{23} \\\\\n",
       "\\frac{1}{5} & \\frac{1}{6} & \\frac{1}{7} & \\frac{1}{8} & \\frac{1}{9} & \\frac{1}{10} & \\frac{1}{11} & \\frac{1}{12} & \\frac{1}{13} & \\frac{1}{14} & \\frac{1}{15} & \\frac{1}{16} & \\frac{1}{17} & \\frac{1}{18} & \\frac{1}{19} & \\frac{1}{20} & \\frac{1}{21} & \\frac{1}{22} & \\frac{1}{23} & \\frac{1}{24} \\\\\n",
       "\\frac{1}{6} & \\frac{1}{7} & \\frac{1}{8} & \\frac{1}{9} & \\frac{1}{10} & \\frac{1}{11} & \\frac{1}{12} & \\frac{1}{13} & \\frac{1}{14} & \\frac{1}{15} & \\frac{1}{16} & \\frac{1}{17} & \\frac{1}{18} & \\frac{1}{19} & \\frac{1}{20} & \\frac{1}{21} & \\frac{1}{22} & \\frac{1}{23} & \\frac{1}{24} & \\frac{1}{25} \\\\\n",
       "\\frac{1}{7} & \\frac{1}{8} & \\frac{1}{9} & \\frac{1}{10} & \\frac{1}{11} & \\frac{1}{12} & \\frac{1}{13} & \\frac{1}{14} & \\frac{1}{15} & \\frac{1}{16} & \\frac{1}{17} & \\frac{1}{18} & \\frac{1}{19} & \\frac{1}{20} & \\frac{1}{21} & \\frac{1}{22} & \\frac{1}{23} & \\frac{1}{24} & \\frac{1}{25} & \\frac{1}{26} \\\\\n",
       "\\frac{1}{8} & \\frac{1}{9} & \\frac{1}{10} & \\frac{1}{11} & \\frac{1}{12} & \\frac{1}{13} & \\frac{1}{14} & \\frac{1}{15} & \\frac{1}{16} & \\frac{1}{17} & \\frac{1}{18} & \\frac{1}{19} & \\frac{1}{20} & \\frac{1}{21} & \\frac{1}{22} & \\frac{1}{23} & \\frac{1}{24} & \\frac{1}{25} & \\frac{1}{26} & \\frac{1}{27} \\\\\n",
       "\\frac{1}{9} & \\frac{1}{10} & \\frac{1}{11} & \\frac{1}{12} & \\frac{1}{13} & \\frac{1}{14} & \\frac{1}{15} & \\frac{1}{16} & \\frac{1}{17} & \\frac{1}{18} & \\frac{1}{19} & \\frac{1}{20} & \\frac{1}{21} & \\frac{1}{22} & \\frac{1}{23} & \\frac{1}{24} & \\frac{1}{25} & \\frac{1}{26} & \\frac{1}{27} & \\frac{1}{28} \\\\\n",
       "\\frac{1}{10} & \\frac{1}{11} & \\frac{1}{12} & \\frac{1}{13} & \\frac{1}{14} & \\frac{1}{15} & \\frac{1}{16} & \\frac{1}{17} & \\frac{1}{18} & \\frac{1}{19} & \\frac{1}{20} & \\frac{1}{21} & \\frac{1}{22} & \\frac{1}{23} & \\frac{1}{24} & \\frac{1}{25} & \\frac{1}{26} & \\frac{1}{27} & \\frac{1}{28} & \\frac{1}{29} \\\\\n",
       "\\frac{1}{11} & \\frac{1}{12} & \\frac{1}{13} & \\frac{1}{14} & \\frac{1}{15} & \\frac{1}{16} & \\frac{1}{17} & \\frac{1}{18} & \\frac{1}{19} & \\frac{1}{20} & \\frac{1}{21} & \\frac{1}{22} & \\frac{1}{23} & \\frac{1}{24} & \\frac{1}{25} & \\frac{1}{26} & \\frac{1}{27} & \\frac{1}{28} & \\frac{1}{29} & \\frac{1}{30} \\\\\n",
       "\\frac{1}{12} & \\frac{1}{13} & \\frac{1}{14} & \\frac{1}{15} & \\frac{1}{16} & \\frac{1}{17} & \\frac{1}{18} & \\frac{1}{19} & \\frac{1}{20} & \\frac{1}{21} & \\frac{1}{22} & \\frac{1}{23} & \\frac{1}{24} & \\frac{1}{25} & \\frac{1}{26} & \\frac{1}{27} & \\frac{1}{28} & \\frac{1}{29} & \\frac{1}{30} & \\frac{1}{31} \\\\\n",
       "\\frac{1}{13} & \\frac{1}{14} & \\frac{1}{15} & \\frac{1}{16} & \\frac{1}{17} & \\frac{1}{18} & \\frac{1}{19} & \\frac{1}{20} & \\frac{1}{21} & \\frac{1}{22} & \\frac{1}{23} & \\frac{1}{24} & \\frac{1}{25} & \\frac{1}{26} & \\frac{1}{27} & \\frac{1}{28} & \\frac{1}{29} & \\frac{1}{30} & \\frac{1}{31} & \\frac{1}{32} \\\\\n",
       "\\frac{1}{14} & \\frac{1}{15} & \\frac{1}{16} & \\frac{1}{17} & \\frac{1}{18} & \\frac{1}{19} & \\frac{1}{20} & \\frac{1}{21} & \\frac{1}{22} & \\frac{1}{23} & \\frac{1}{24} & \\frac{1}{25} & \\frac{1}{26} & \\frac{1}{27} & \\frac{1}{28} & \\frac{1}{29} & \\frac{1}{30} & \\frac{1}{31} & \\frac{1}{32} & \\frac{1}{33} \\\\\n",
       "\\frac{1}{15} & \\frac{1}{16} & \\frac{1}{17} & \\frac{1}{18} & \\frac{1}{19} & \\frac{1}{20} & \\frac{1}{21} & \\frac{1}{22} & \\frac{1}{23} & \\frac{1}{24} & \\frac{1}{25} & \\frac{1}{26} & \\frac{1}{27} & \\frac{1}{28} & \\frac{1}{29} & \\frac{1}{30} & \\frac{1}{31} & \\frac{1}{32} & \\frac{1}{33} & \\frac{1}{34} \\\\\n",
       "\\frac{1}{16} & \\frac{1}{17} & \\frac{1}{18} & \\frac{1}{19} & \\frac{1}{20} & \\frac{1}{21} & \\frac{1}{22} & \\frac{1}{23} & \\frac{1}{24} & \\frac{1}{25} & \\frac{1}{26} & \\frac{1}{27} & \\frac{1}{28} & \\frac{1}{29} & \\frac{1}{30} & \\frac{1}{31} & \\frac{1}{32} & \\frac{1}{33} & \\frac{1}{34} & \\frac{1}{35} \\\\\n",
       "\\frac{1}{17} & \\frac{1}{18} & \\frac{1}{19} & \\frac{1}{20} & \\frac{1}{21} & \\frac{1}{22} & \\frac{1}{23} & \\frac{1}{24} & \\frac{1}{25} & \\frac{1}{26} & \\frac{1}{27} & \\frac{1}{28} & \\frac{1}{29} & \\frac{1}{30} & \\frac{1}{31} & \\frac{1}{32} & \\frac{1}{33} & \\frac{1}{34} & \\frac{1}{35} & \\frac{1}{36} \\\\\n",
       "\\frac{1}{18} & \\frac{1}{19} & \\frac{1}{20} & \\frac{1}{21} & \\frac{1}{22} & \\frac{1}{23} & \\frac{1}{24} & \\frac{1}{25} & \\frac{1}{26} & \\frac{1}{27} & \\frac{1}{28} & \\frac{1}{29} & \\frac{1}{30} & \\frac{1}{31} & \\frac{1}{32} & \\frac{1}{33} & \\frac{1}{34} & \\frac{1}{35} & \\frac{1}{36} & \\frac{1}{37} \\\\\n",
       "\\frac{1}{19} & \\frac{1}{20} & \\frac{1}{21} & \\frac{1}{22} & \\frac{1}{23} & \\frac{1}{24} & \\frac{1}{25} & \\frac{1}{26} & \\frac{1}{27} & \\frac{1}{28} & \\frac{1}{29} & \\frac{1}{30} & \\frac{1}{31} & \\frac{1}{32} & \\frac{1}{33} & \\frac{1}{34} & \\frac{1}{35} & \\frac{1}{36} & \\frac{1}{37} & \\frac{1}{38} \\\\\n",
       "\\frac{1}{20} & \\frac{1}{21} & \\frac{1}{22} & \\frac{1}{23} & \\frac{1}{24} & \\frac{1}{25} & \\frac{1}{26} & \\frac{1}{27} & \\frac{1}{28} & \\frac{1}{29} & \\frac{1}{30} & \\frac{1}{31} & \\frac{1}{32} & \\frac{1}{33} & \\frac{1}{34} & \\frac{1}{35} & \\frac{1}{36} & \\frac{1}{37} & \\frac{1}{38} & \\frac{1}{39}\n",
       "\\end{array}\\right)$$"
      ],
      "text/plain": [
       "20 x 20 dense matrix over Rational Field (use the '.str()' method to see the entries)"
      ]
     },
     "metadata": {},
     "output_type": "display_data"
    },
    {
     "data": {
      "text/html": [
       "<html><script type=\"math/tex; mode=display\">\\newcommand{\\Bold}[1]{\\mathbf{#1}}\\left(-2,\\,-10,\\,1,\\,-7,\\,-11,\\,0,\\,0,\\,0,\\,18,\\,1,\\,0,\\,-1,\\,1,\\,-1,\\,2,\\,0,\\,1,\\,-1,\\,0,\\,4\\right)</script></html>"
      ],
      "text/latex": [
       "$$\\newcommand{\\Bold}[1]{\\mathbf{#1}}\\left(-2,\\,-10,\\,1,\\,-7,\\,-11,\\,0,\\,0,\\,0,\\,18,\\,1,\\,0,\\,-1,\\,1,\\,-1,\\,2,\\,0,\\,1,\\,-1,\\,0,\\,4\\right)$$"
      ],
      "text/plain": [
       "(-2, -10, 1, -7, -11, 0, 0, 0, 18, 1, 0, -1, 1, -1, 2, 0, 1, -1, 0, 4)"
      ]
     },
     "metadata": {},
     "output_type": "display_data"
    }
   ],
   "source": [
    "N=20\n",
    "A=matrix(N,N,lambda i,j : 1/(i+j+1))\n",
    "b=vector([ZZ.random_element() for i in range(N)])\n",
    "show(A)\n",
    "show(b)"
   ]
  },
  {
   "cell_type": "code",
   "execution_count": 160,
   "metadata": {},
   "outputs": [
    {
     "name": "stdout",
     "output_type": "stream",
     "text": [
      "CPU times: user 1.39 ms, sys: 291 µs, total: 1.68 ms\n",
      "Wall time: 1.43 ms\n",
      "CPU times: user 5.36 ms, sys: 3 µs, total: 5.37 ms\n",
      "Wall time: 5.37 ms\n"
     ]
    }
   ],
   "source": [
    "Af=A.n()\n",
    "bf=b.n()\n",
    "%time y = A.solve_right(b)\n",
    "%time yf= Af.solve_right(bf)"
   ]
  },
  {
   "cell_type": "code",
   "execution_count": 161,
   "metadata": {
    "scrolled": true
   },
   "outputs": [
    {
     "name": "stdout",
     "output_type": "stream",
     "text": [
      "yf[0]= 4.06509636802346e10\n"
     ]
    },
    {
     "data": {
      "text/plain": [
       "(1.74139200000000e6, -2.00000000000000)"
      ]
     },
     "execution_count": 161,
     "metadata": {},
     "output_type": "execute_result"
    }
   ],
   "source": [
    "### le résultat avec les flottants est complètement faux\n",
    "print(\"yf[0]=\",yf[0])\n",
    "(Af*yf)[0], bf[0]"
   ]
  },
  {
   "cell_type": "code",
   "execution_count": 162,
   "metadata": {},
   "outputs": [
    {
     "name": "stdout",
     "output_type": "stream",
     "text": [
      "y[0]= 2243396662525420\n"
     ]
    },
    {
     "data": {
      "text/plain": [
       "(-2, -2, True)"
      ]
     },
     "execution_count": 162,
     "metadata": {},
     "output_type": "execute_result"
    }
   ],
   "source": [
    "### le résultat avec les rationnels est exact\n",
    "print(\"y[0]=\",y[0])\n",
    "(A*y)[0],b[0],A*y==b"
   ]
  },
  {
   "cell_type": "markdown",
   "metadata": {},
   "source": [
    "**A RETENIR**\n",
    "- la fonction `solve` est une méthode de résolution symbolique\n",
    "- les calculs avec les flottants peuvent être plus rapides mais aussi faux (surtout en algèbre linéaire)\n",
    "- les calculs avec les rationnels entrainent un grossissement des données mais le résultat est toujours correct"
   ]
  },
  {
   "cell_type": "markdown",
   "metadata": {},
   "source": [
    "## Limite du calcul symbolique"
   ]
  },
  {
   "cell_type": "code",
   "execution_count": 163,
   "metadata": {},
   "outputs": [
    {
     "data": {
      "text/html": [
       "<html><script type=\"math/tex; mode=display\">\\newcommand{\\Bold}[1]{\\mathbf{#1}}a c + b c</script></html>"
      ],
      "text/latex": [
       "$$\\newcommand{\\Bold}[1]{\\mathbf{#1}}a c + b c$$"
      ],
      "text/plain": [
       "a*c + b*c"
      ]
     },
     "metadata": {},
     "output_type": "display_data"
    },
    {
     "data": {
      "text/html": [
       "<html><script type=\"math/tex; mode=display\">\\newcommand{\\Bold}[1]{\\mathbf{#1}}{\\left(a + b\\right)} c</script></html>"
      ],
      "text/latex": [
       "$$\\newcommand{\\Bold}[1]{\\mathbf{#1}}{\\left(a + b\\right)} c$$"
      ],
      "text/plain": [
       "(a + b)*c"
      ]
     },
     "metadata": {},
     "output_type": "display_data"
    },
    {
     "data": {
      "text/html": [
       "<html><script type=\"math/tex; mode=display\">\\newcommand{\\Bold}[1]{\\mathbf{#1}}{\\left(a + b\\right)} c = {\\left(a + b\\right)} c</script></html>"
      ],
      "text/latex": [
       "$$\\newcommand{\\Bold}[1]{\\mathbf{#1}}{\\left(a + b\\right)} c = {\\left(a + b\\right)} c$$"
      ],
      "text/plain": [
       "(a + b)*c == (a + b)*c"
      ]
     },
     "metadata": {},
     "output_type": "display_data"
    },
    {
     "data": {
      "text/html": [
       "<html><script type=\"math/tex; mode=display\">\\newcommand{\\Bold}[1]{\\mathbf{#1}}a c + b c = a c + b c</script></html>"
      ],
      "text/latex": [
       "$$\\newcommand{\\Bold}[1]{\\mathbf{#1}}a c + b c = a c + b c$$"
      ],
      "text/plain": [
       "a*c + b*c == a*c + b*c"
      ]
     },
     "metadata": {},
     "output_type": "display_data"
    },
    {
     "data": {
      "text/plain": [
       "True"
      ]
     },
     "execution_count": 163,
     "metadata": {},
     "output_type": "execute_result"
    }
   ],
   "source": [
    "var('a b c')\n",
    "e1=a*c+b*c\n",
    "e2=(a+b)*c\n",
    "e1.show()\n",
    "e2.show()\n",
    "(e2 == e1.collect(c)).show()\n",
    "(e1 == e2.expand()).show()\n",
    "bool(e1==e2)"
   ]
  },
  {
   "cell_type": "code",
   "execution_count": 164,
   "metadata": {},
   "outputs": [
    {
     "data": {
      "text/html": [
       "<html><script type=\"math/tex; mode=display\">\\newcommand{\\Bold}[1]{\\mathbf{#1}}{\\left(a - b\\right)}^{2} - a^{2} + 2 \\, a b - b^{2}</script></html>"
      ],
      "text/latex": [
       "$$\\newcommand{\\Bold}[1]{\\mathbf{#1}}{\\left(a - b\\right)}^{2} - a^{2} + 2 \\, a b - b^{2}$$"
      ],
      "text/plain": [
       "(a - b)^2 - a^2 + 2*a*b - b^2"
      ]
     },
     "metadata": {},
     "output_type": "display_data"
    },
    {
     "data": {
      "text/plain": [
       "True"
      ]
     },
     "execution_count": 164,
     "metadata": {},
     "output_type": "execute_result"
    }
   ],
   "source": [
    "e=(a-b)^2-a^2+2*a*b-b^2\n",
    "e.show()\n",
    "bool(e==0)"
   ]
  },
  {
   "cell_type": "code",
   "execution_count": 165,
   "metadata": {},
   "outputs": [
    {
     "data": {
      "text/plain": [
       "(cos(x)^2 + sin(x)^2, 1)"
      ]
     },
     "execution_count": 165,
     "metadata": {},
     "output_type": "execute_result"
    }
   ],
   "source": [
    "var('x')\n",
    "e= cos(x)^2+sin(x)^2\n",
    "e, e.simplify_trig()"
   ]
  },
  {
   "cell_type": "code",
   "execution_count": 166,
   "metadata": {},
   "outputs": [
    {
     "data": {
      "text/plain": [
       "(False, False, True)"
      ]
     },
     "execution_count": 166,
     "metadata": {},
     "output_type": "execute_result"
    }
   ],
   "source": [
    "e=sqrt(x^2)\n",
    "bool(x==e), bool(x==e.simplify_full()),bool(x==e.canonicalize_radical())"
   ]
  },
  {
   "cell_type": "markdown",
   "metadata": {},
   "source": [
    "### Explosion combinatoire des symboles"
   ]
  },
  {
   "cell_type": "code",
   "execution_count": 167,
   "metadata": {},
   "outputs": [
    {
     "data": {
      "text/html": [
       "<html><script type=\"math/tex; mode=display\">\\newcommand{\\Bold}[1]{\\mathbf{#1}}\\verb|A=| \\left(\\begin{array}{rr}\n",
       "\\cos\\left(x\\right) & \\sin\\left(x\\right) \\\\\n",
       "-\\sin\\left(x\\right) & \\cos\\left(x\\right)\n",
       "\\end{array}\\right) \\phantom{\\verb!xx!}\\verb|det(A)=| \\cos\\left(x\\right)^{2} + \\sin\\left(x\\right)^{2}</script></html>"
      ],
      "text/latex": [
       "$$\\newcommand{\\Bold}[1]{\\mathbf{#1}}\\verb|A=| \\left(\\begin{array}{rr}\n",
       "\\cos\\left(x\\right) & \\sin\\left(x\\right) \\\\\n",
       "-\\sin\\left(x\\right) & \\cos\\left(x\\right)\n",
       "\\end{array}\\right) \\phantom{\\verb!xx!}\\verb|det(A)=| \\cos\\left(x\\right)^{2} + \\sin\\left(x\\right)^{2}$$"
      ],
      "text/plain": [
       "'A=' [ cos(x)  sin(x)]\n",
       "[-sin(x)  cos(x)] '  det(A)=' cos(x)^2 + sin(x)^2"
      ]
     },
     "metadata": {},
     "output_type": "display_data"
    }
   ],
   "source": [
    "var('x')\n",
    "A=Matrix(2,2,[[cos(x),sin(x)],[-sin(x),cos(x)]])\n",
    "show(\"A=\",A,\"  det(A)=\",A.determinant())"
   ]
  },
  {
   "cell_type": "code",
   "execution_count": 168,
   "metadata": {},
   "outputs": [
    {
     "name": "stdout",
     "output_type": "stream",
     "text": [
      "d= 16*(16*(256*(16*(cos(x)^2 - sin(x)^2)^2*cos(x)^2*sin(x)^2 - (4*cos(x)^2*sin(x)^2 - (cos(x)^2 - sin(x)^2)^2)^2)^2*(4*cos(x)^2*sin(x)^2 - (cos(x)^2 - sin(x)^2)^2)^2*(cos(x)^2 - sin(x)^2)^2*cos(x)^2*sin(x)^2 - (64*(4*cos(x)^2*sin(x)^2 - (cos(x)^2 - sin(x)^2)^2)^2*(cos(x)^2 - sin(x)^2)^2*cos(x)^2*sin(x)^2 - (16*(cos(x)^2 - sin(x)^2)^2*cos(x)^2*sin(x)^2 - (4*cos(x)^2*sin(x)^2 - (cos(x)^2 - sin(x)^2)^2)^2)^2)^2)*(128*(64*(4*cos(x)^2*sin(x)^2 - (cos(x)^2 - sin(x)^2)^2)^2*(cos(x)^2 - sin(x)^2)^2*cos(x)^2*sin(x)^2 - (16*(cos(x)^2 - sin(x)^2)^2*cos(x)^2*sin(x)^2 - (4*cos(x)^2*sin(x)^2 - (cos(x)^2 - sin(x)^2)^2)^2)^2)*(16*(cos(x)^2 - sin(x)^2)^2*cos(x)^2*sin(x)^2 - (4*cos(x)^2*sin(x)^2 - (cos(x)^2 - sin(x)^2)^2)^2)*(4*cos(x)^2*sin(x)^2 - (cos(x)^2 - sin(x)^2)^2)*(cos(x)^2 - sin(x)^2)^2*cos(x)^2*sin(x)^2 + (256*(16*(cos(x)^2 - sin(x)^2)^2*cos(x)^2*sin(x)^2 - (4*cos(x)^2*sin(x)^2 - (cos(x)^2 - sin(x)^2)^2)^2)^2*(4*cos(x)^2*sin(x)^2 - (cos(x)^2 - sin(x)^2)^2)^2*(cos(x)^2 - sin(x)^2)^2*cos(x)^2*sin(x)^2 - (64*(4*cos(x)^2*sin(x)^2 - (cos(x)^2 - sin(x)^2)^2)^2*(cos(x)^2 - sin(x)^2)^2*cos(x)^2*sin(x)^2 - (16*(cos(x)^2 - sin(x)^2)^2*cos(x)^2*sin(x)^2 - (4*cos(x)^2*sin(x)^2 - (cos(x)^2 - sin(x)^2)^2)^2)^2)^2)*(4*cos(x)^2*sin(x)^2 - (cos(x)^2 - sin(x)^2)^2))*(64*(4*cos(x)^2*sin(x)^2 - (cos(x)^2 - sin(x)^2)^2)^2*(cos(x)^2 - sin(x)^2)^2*cos(x)^2*sin(x)^2 - (16*(cos(x)^2 - sin(x)^2)^2*cos(x)^2*sin(x)^2 - (4*cos(x)^2*sin(x)^2 - (cos(x)^2 - sin(x)^2)^2)^2)^2)*(16*(cos(x)^2 - sin(x)^2)^2*cos(x)^2*sin(x)^2 - (4*cos(x)^2*sin(x)^2 - (cos(x)^2 - sin(x)^2)^2)^2)*(4*cos(x)^2*sin(x)^2 - (cos(x)^2 - sin(x)^2)^2)*(cos(x)^2 - sin(x)^2)*cos(x)*sin(x) - (1024*(64*(4*cos(x)^2*sin(x)^2 - (cos(x)^2 - sin(x)^2)^2)^2*(cos(x)^2 - sin(x)^2)^2*cos(x)^2*sin(x)^2 - (16*(cos(x)^2 - sin(x)^2)^2*cos(x)^2*sin(x)^2 - (4*cos(x)^2*sin(x)^2 - (cos(x)^2 - sin(x)^2)^2)^2)^2)^2*(16*(cos(x)^2 - sin(x)^2)^2*cos(x)^2*sin(x)^2 - (4*cos(x)^2*sin(x)^2 - (cos(x)^2 - sin(x)^2)^2)^2)^2*(4*cos(x)^2*sin(x)^2 - (cos(x)^2 - sin(x)^2)^2)^2*(cos(x)^2 - sin(x)^2)^2*cos(x)^2*sin(x)^2 - (256*(16*(cos(x)^2 - sin(x)^2)^2*cos(x)^2*sin(x)^2 - (4*cos(x)^2*sin(x)^2 - (cos(x)^2 - sin(x)^2)^2)^2)^2*(4*cos(x)^2*sin(x)^2 - (cos(x)^2 - sin(x)^2)^2)^2*(cos(x)^2 - sin(x)^2)^2*cos(x)^2*sin(x)^2 - (64*(4*cos(x)^2*sin(x)^2 - (cos(x)^2 - sin(x)^2)^2)^2*(cos(x)^2 - sin(x)^2)^2*cos(x)^2*sin(x)^2 - (16*(cos(x)^2 - sin(x)^2)^2*cos(x)^2*sin(x)^2 - (4*cos(x)^2*sin(x)^2 - (cos(x)^2 - sin(x)^2)^2)^2)^2)^2)^2)*(8*(64*(4*cos(x)^2*sin(x)^2 - (cos(x)^2 - sin(x)^2)^2)^2*(cos(x)^2 - sin(x)^2)^2*cos(x)^2*sin(x)^2 - (16*(cos(x)^2 - sin(x)^2)^2*cos(x)^2*sin(x)^2 - (4*cos(x)^2*sin(x)^2 - (cos(x)^2 - sin(x)^2)^2)^2)^2)*(16*(cos(x)^2 - sin(x)^2)^2*cos(x)^2*sin(x)^2 - (4*cos(x)^2*sin(x)^2 - (cos(x)^2 - sin(x)^2)^2)^2)*(4*cos(x)^2*sin(x)^2 - (cos(x)^2 - sin(x)^2)^2)^2*(cos(x)^2 - sin(x)^2)*cos(x)*sin(x) - (256*(16*(cos(x)^2 - sin(x)^2)^2*cos(x)^2*sin(x)^2 - (4*cos(x)^2*sin(x)^2 - (cos(x)^2 - sin(x)^2)^2)^2)^2*(4*cos(x)^2*sin(x)^2 - (cos(x)^2 - sin(x)^2)^2)^2*(cos(x)^2 - sin(x)^2)^2*cos(x)^2*sin(x)^2 - (64*(4*cos(x)^2*sin(x)^2 - (cos(x)^2 - sin(x)^2)^2)^2*(cos(x)^2 - sin(x)^2)^2*cos(x)^2*sin(x)^2 - (16*(cos(x)^2 - sin(x)^2)^2*cos(x)^2*sin(x)^2 - (4*cos(x)^2*sin(x)^2 - (cos(x)^2 - sin(x)^2)^2)^2)^2)^2)*(cos(x)^2 - sin(x)^2)*cos(x)*sin(x)))^2 + (256*(256*(16*(cos(x)^2 - sin(x)^2)^2*cos(x)^2*sin(x)^2 - (4*cos(x)^2*sin(x)^2 - (cos(x)^2 - sin(x)^2)^2)^2)^2*(4*cos(x)^2*sin(x)^2 - (cos(x)^2 - sin(x)^2)^2)^2*(cos(x)^2 - sin(x)^2)^2*cos(x)^2*sin(x)^2 - (64*(4*cos(x)^2*sin(x)^2 - (cos(x)^2 - sin(x)^2)^2)^2*(cos(x)^2 - sin(x)^2)^2*cos(x)^2*sin(x)^2 - (16*(cos(x)^2 - sin(x)^2)^2*cos(x)^2*sin(x)^2 - (4*cos(x)^2*sin(x)^2 - (cos(x)^2 - sin(x)^2)^2)^2)^2)^2)*(64*(4*cos(x)^2*sin(x)^2 - (cos(x)^2 - sin(x)^2)^2)^2*(cos(x)^2 - sin(x)^2)^2*cos(x)^2*sin(x)^2 - (16*(cos(x)^2 - sin(x)^2)^2*cos(x)^2*sin(x)^2 - (4*cos(x)^2*sin(x)^2 - (cos(x)^2 - sin(x)^2)^2)^2)^2)*(8*(64*(4*cos(x)^2*sin(x)^2 - (cos(x)^2 - sin(x)^2)^2)^2*(cos(x)^2 - sin(x)^2)^2*cos(x)^2*sin(x)^2 - (16*(cos(x)^2 - sin(x)^2)^2*cos(x)^2*sin(x)^2 - (4*cos(x)^2*sin(x)^2 - (cos(x)^2 - sin(x)^2)^2)^2)^2)*(16*(cos(x)^2 - sin(x)^2)^2*cos(x)^2*sin(x)^2 - (4*cos(x)^2*sin(x)^2 - (cos(x)^2 - sin(x)^2)^2)^2)*(4*cos(x)^2*sin(x)^2 - (cos(x)^2 - sin(x)^2)^2)^2*(cos(x)^2 - sin(x)^2)*cos(x)*sin(x) - (256*(16*(cos(x)^2 - sin(x)^2)^2*cos(x)^2*sin(x)^2 - (4*cos(x)^2*sin(x)^2 - (cos(x)^2 - sin(x)^2)^2)^2)^2*(4*cos(x)^2*sin(x)^2 - (cos(x)^2 - sin(x)^2)^2)^2*(cos(x)^2 - sin(x)^2)^2*cos(x)^2*sin(x)^2 - (64*(4*cos(x)^2*sin(x)^2 - (cos(x)^2 - sin(x)^2)^2)^2*(cos(x)^2 - sin(x)^2)^2*cos(x)^2*sin(x)^2 - (16*(cos(x)^2 - sin(x)^2)^2*cos(x)^2*sin(x)^2 - (4*cos(x)^2*sin(x)^2 - (cos(x)^2 - sin(x)^2)^2)^2)^2)^2)*(cos(x)^2 - sin(x)^2)*cos(x)*sin(x))*(16*(cos(x)^2 - sin(x)^2)^2*cos(x)^2*sin(x)^2 - (4*cos(x)^2*sin(x)^2 - (cos(x)^2 - sin(x)^2)^2)^2)*(4*cos(x)^2*sin(x)^2 - (cos(x)^2 - sin(x)^2)^2)*(cos(x)^2 - sin(x)^2)*cos(x)*sin(x) + (1024*(64*(4*cos(x)^2*sin(x)^2 - (cos(x)^2 - sin(x)^2)^2)^2*(cos(x)^2 - sin(x)^2)^2*cos(x)^2*sin(x)^2 - (16*(cos(x)^2 - sin(x)^2)^2*cos(x)^2*sin(x)^2 - (4*cos(x)^2*sin(x)^2 - (cos(x)^2 - sin(x)^2)^2)^2)^2)^2*(16*(cos(x)^2 - sin(x)^2)^2*cos(x)^2*sin(x)^2 - (4*cos(x)^2*sin(x)^2 - (cos(x)^2 - sin(x)^2)^2)^2)^2*(4*cos(x)^2*sin(x)^2 - (cos(x)^2 - sin(x)^2)^2)^2*(cos(x)^2 - sin(x)^2)^2*cos(x)^2*sin(x)^2 - (256*(16*(cos(x)^2 - sin(x)^2)^2*cos(x)^2*sin(x)^2 - (4*cos(x)^2*sin(x)^2 - (cos(x)^2 - sin(x)^2)^2)^2)^2*(4*cos(x)^2*sin(x)^2 - (cos(x)^2 - sin(x)^2)^2)^2*(cos(x)^2 - sin(x)^2)^2*cos(x)^2*sin(x)^2 - (64*(4*cos(x)^2*sin(x)^2 - (cos(x)^2 - sin(x)^2)^2)^2*(cos(x)^2 - sin(x)^2)^2*cos(x)^2*sin(x)^2 - (16*(cos(x)^2 - sin(x)^2)^2*cos(x)^2*sin(x)^2 - (4*cos(x)^2*sin(x)^2 - (cos(x)^2 - sin(x)^2)^2)^2)^2)^2)^2)*(128*(64*(4*cos(x)^2*sin(x)^2 - (cos(x)^2 - sin(x)^2)^2)^2*(cos(x)^2 - sin(x)^2)^2*cos(x)^2*sin(x)^2 - (16*(cos(x)^2 - sin(x)^2)^2*cos(x)^2*sin(x)^2 - (4*cos(x)^2*sin(x)^2 - (cos(x)^2 - sin(x)^2)^2)^2)^2)*(16*(cos(x)^2 - sin(x)^2)^2*cos(x)^2*sin(x)^2 - (4*cos(x)^2*sin(x)^2 - (cos(x)^2 - sin(x)^2)^2)^2)*(4*cos(x)^2*sin(x)^2 - (cos(x)^2 - sin(x)^2)^2)*(cos(x)^2 - sin(x)^2)^2*cos(x)^2*sin(x)^2 + (256*(16*(cos(x)^2 - sin(x)^2)^2*cos(x)^2*sin(x)^2 - (4*cos(x)^2*sin(x)^2 - (cos(x)^2 - sin(x)^2)^2)^2)^2*(4*cos(x)^2*sin(x)^2 - (cos(x)^2 - sin(x)^2)^2)^2*(cos(x)^2 - sin(x)^2)^2*cos(x)^2*sin(x)^2 - (64*(4*cos(x)^2*sin(x)^2 - (cos(x)^2 - sin(x)^2)^2)^2*(cos(x)^2 - sin(x)^2)^2*cos(x)^2*sin(x)^2 - (16*(cos(x)^2 - sin(x)^2)^2*cos(x)^2*sin(x)^2 - (4*cos(x)^2*sin(x)^2 - (cos(x)^2 - sin(x)^2)^2)^2)^2)^2)*(4*cos(x)^2*sin(x)^2 - (cos(x)^2 - sin(x)^2)^2)))^2\n"
     ]
    }
   ],
   "source": [
    "N=100\n",
    "d=(A^N).determinant()\n",
    "print(\"d=\",d)\n",
    "\n",
    "#A^N,(A^(N)).expand()"
   ]
  },
  {
   "cell_type": "code",
   "execution_count": 169,
   "metadata": {},
   "outputs": [
    {
     "name": "stdout",
     "output_type": "stream",
     "text": [
      "True\n",
      "CPU times: user 4.02 s, sys: 25.1 ms, total: 4.05 s\n",
      "Wall time: 3.84 s\n",
      "True\n",
      "CPU times: user 636 ms, sys: 6.65 ms, total: 643 ms\n",
      "Wall time: 489 ms\n"
     ]
    }
   ],
   "source": [
    "%time print(bool(d==1))\n",
    "%time print(bool(d.simplify_trig()==1))"
   ]
  },
  {
   "cell_type": "markdown",
   "metadata": {},
   "source": [
    "### Pas toujours de solutions"
   ]
  },
  {
   "cell_type": "code",
   "execution_count": 170,
   "metadata": {},
   "outputs": [
    {
     "data": {
      "text/plain": [
       "[(-I, 1), (I, 1)]"
      ]
     },
     "execution_count": 170,
     "metadata": {},
     "output_type": "execute_result"
    }
   ],
   "source": [
    "var('x')\n",
    "(x^2+1).roots()"
   ]
  },
  {
   "cell_type": "code",
   "execution_count": 171,
   "metadata": {},
   "outputs": [
    {
     "name": "stdout",
     "output_type": "stream",
     "text": [
      "E=(x + 1)^5 - (x + 2)^4\n",
      "F=(x + 1)^5 + (x + 2)^4\n",
      "EF=((x + 1)^5 + (x + 2)^4)*((x + 1)^5 - (x + 2)^4)\n"
     ]
    },
    {
     "data": {
      "text/plain": [
       "[(-1/6*(1/2)^(1/3)*(3*sqrt(23)*sqrt(3) + 97)^(1/3)*(I*sqrt(3) + 1) - 13/3*(1/2)^(2/3)*(-I*sqrt(3) + 1)/(3*sqrt(23)*sqrt(3) + 97)^(1/3) - 1/3,\n",
       "  1),\n",
       " (-1/6*(1/2)^(1/3)*(3*sqrt(23)*sqrt(3) + 97)^(1/3)*(-I*sqrt(3) + 1) - 13/3*(1/2)^(2/3)*(I*sqrt(3) + 1)/(3*sqrt(23)*sqrt(3) + 97)^(1/3) - 1/3,\n",
       "  1),\n",
       " (1/3*(1/2)^(1/3)*(3*sqrt(23)*sqrt(3) + 97)^(1/3) + 26/3*(1/2)^(2/3)/(3*sqrt(23)*sqrt(3) + 97)^(1/3) - 1/3,\n",
       "  1),\n",
       " (-1/2*I*sqrt(3) - 3/2, 1),\n",
       " (1/2*I*sqrt(3) - 3/2, 1)]"
      ]
     },
     "execution_count": 171,
     "metadata": {},
     "output_type": "execute_result"
    }
   ],
   "source": [
    "E= (x+1)^5 - (x+2)^4\n",
    "F= (x+1)^5 + (x+2)^4\n",
    "EF=E*F\n",
    "print(f\"{E=}\\n{F=}\\n{EF=}\")\n",
    "EF.roots(x)"
   ]
  },
  {
   "cell_type": "code",
   "execution_count": 172,
   "metadata": {},
   "outputs": [
    {
     "name": "stdout",
     "output_type": "stream",
     "text": [
      "E=(x + 1)^10 - (x + 2)^9\n",
      "F=(x + 1)^10 + (x + 2)^9\n",
      "EF=((x + 1)^10 + (x + 2)^9)*((x + 1)^10 - (x + 2)^9)\n"
     ]
    },
    {
     "ename": "RuntimeError",
     "evalue": "no explicit roots found",
     "output_type": "error",
     "traceback": [
      "\u001b[0;31m---------------------------------------------------------------------------\u001b[0m",
      "\u001b[0;31mRuntimeError\u001b[0m                              Traceback (most recent call last)",
      "\u001b[0;32m<ipython-input-172-01488cc127b7>\u001b[0m in \u001b[0;36m<module>\u001b[0;34m\u001b[0m\n\u001b[1;32m      3\u001b[0m \u001b[0mEF\u001b[0m\u001b[0;34m=\u001b[0m\u001b[0mE\u001b[0m\u001b[0;34m*\u001b[0m\u001b[0mF\u001b[0m\u001b[0;34m\u001b[0m\u001b[0;34m\u001b[0m\u001b[0m\n\u001b[1;32m      4\u001b[0m \u001b[0mprint\u001b[0m\u001b[0;34m(\u001b[0m\u001b[0;34mf\"{E=}\\n{F=}\\n{EF=}\"\u001b[0m\u001b[0;34m)\u001b[0m\u001b[0;34m\u001b[0m\u001b[0;34m\u001b[0m\u001b[0m\n\u001b[0;32m----> 5\u001b[0;31m \u001b[0mEF\u001b[0m\u001b[0;34m.\u001b[0m\u001b[0mroots\u001b[0m\u001b[0;34m(\u001b[0m\u001b[0mx\u001b[0m\u001b[0;34m)\u001b[0m \u001b[0;31m## aucunes solution trouvées alors que c'est un polynôme\u001b[0m\u001b[0;34m\u001b[0m\u001b[0;34m\u001b[0m\u001b[0m\n\u001b[0m",
      "\u001b[0;32m~/Work/Library/SageMath/local/lib/python3.9/site-packages/sage/symbolic/expression.pyx\u001b[0m in \u001b[0;36msage.symbolic.expression.Expression.roots (build/cythonized/sage/symbolic/expression.cpp:61691)\u001b[0;34m()\u001b[0m\n\u001b[1;32m  11741\u001b[0m         \u001b[0mS\u001b[0m\u001b[0;34m,\u001b[0m \u001b[0mmul\u001b[0m \u001b[0;34m=\u001b[0m \u001b[0mself\u001b[0m\u001b[0;34m.\u001b[0m\u001b[0msolve\u001b[0m\u001b[0;34m(\u001b[0m\u001b[0mx\u001b[0m\u001b[0;34m,\u001b[0m \u001b[0mmultiplicities\u001b[0m\u001b[0;34m=\u001b[0m\u001b[0;32mTrue\u001b[0m\u001b[0;34m,\u001b[0m \u001b[0mexplicit_solutions\u001b[0m\u001b[0;34m=\u001b[0m\u001b[0mexplicit_solutions\u001b[0m\u001b[0;34m)\u001b[0m\u001b[0;34m\u001b[0m\u001b[0;34m\u001b[0m\u001b[0m\n\u001b[1;32m  11742\u001b[0m         \u001b[0;32mif\u001b[0m \u001b[0mlen\u001b[0m\u001b[0;34m(\u001b[0m\u001b[0mmul\u001b[0m\u001b[0;34m)\u001b[0m \u001b[0;34m==\u001b[0m \u001b[0;36m0\u001b[0m \u001b[0;32mand\u001b[0m \u001b[0mexplicit_solutions\u001b[0m\u001b[0;34m:\u001b[0m\u001b[0;34m\u001b[0m\u001b[0;34m\u001b[0m\u001b[0m\n\u001b[0;32m> 11743\u001b[0;31m             \u001b[0;32mraise\u001b[0m \u001b[0mRuntimeError\u001b[0m\u001b[0;34m(\u001b[0m\u001b[0;34m\"no explicit roots found\"\u001b[0m\u001b[0;34m)\u001b[0m\u001b[0;34m\u001b[0m\u001b[0;34m\u001b[0m\u001b[0m\n\u001b[0m\u001b[1;32m  11744\u001b[0m         \u001b[0;32melse\u001b[0m\u001b[0;34m:\u001b[0m\u001b[0;34m\u001b[0m\u001b[0;34m\u001b[0m\u001b[0m\n\u001b[1;32m  11745\u001b[0m             \u001b[0mrt_muls\u001b[0m \u001b[0;34m=\u001b[0m \u001b[0;34m[\u001b[0m\u001b[0;34m(\u001b[0m\u001b[0mS\u001b[0m\u001b[0;34m[\u001b[0m\u001b[0mi\u001b[0m\u001b[0;34m]\u001b[0m\u001b[0;34m.\u001b[0m\u001b[0mrhs\u001b[0m\u001b[0;34m(\u001b[0m\u001b[0;34m)\u001b[0m\u001b[0;34m,\u001b[0m \u001b[0mmul\u001b[0m\u001b[0;34m[\u001b[0m\u001b[0mi\u001b[0m\u001b[0;34m]\u001b[0m\u001b[0;34m)\u001b[0m \u001b[0;32mfor\u001b[0m \u001b[0mi\u001b[0m \u001b[0;32min\u001b[0m \u001b[0mrange\u001b[0m\u001b[0;34m(\u001b[0m\u001b[0mlen\u001b[0m\u001b[0;34m(\u001b[0m\u001b[0mmul\u001b[0m\u001b[0;34m)\u001b[0m\u001b[0;34m)\u001b[0m\u001b[0;34m]\u001b[0m\u001b[0;34m\u001b[0m\u001b[0;34m\u001b[0m\u001b[0m\n",
      "\u001b[0;31mRuntimeError\u001b[0m: no explicit roots found"
     ]
    }
   ],
   "source": [
    "E= (x+1)^10 - (x+2)^9\n",
    "F= (x+1)^10 + (x+2)^9\n",
    "EF=E*F\n",
    "print(f\"{E=}\\n{F=}\\n{EF=}\")\n",
    "EF.roots(x) ## aucunes solution trouvées alors que c'est un polynôme"
   ]
  },
  {
   "cell_type": "markdown",
   "metadata": {},
   "source": [
    "Pour résoudre on passe du calcul symbolique au calcul algébrique.\n",
    "\n",
    "Pour cela on se place dans la structure mathématique des polynomes qui sont des expressions symboliques ayant de bonne propriétés: en particulier une représentation canonique !!!\n",
    "\n",
    "Un polynôme est une expression de la forme : $a_0+a_1X+\\dots+a_nX^n$ avec $n$ une valeur connue et les coefficients $\\{a_0,a_1,\\dots,a_n\\}$ qui sont tous du même type (Entier, Rationnel, Complexe, ...).\n",
    "\n",
    "$\\Rightarrow$ le vecteur $[a_0,a_1,\\dots,a_n]$ est une représentation canonique de ce polynôme."
   ]
  },
  {
   "cell_type": "code",
   "execution_count": null,
   "metadata": {},
   "outputs": [],
   "source": [
    "# Ensemble des polynomes à coefficient dans QQ\n",
    "# on choisit la variable X comme symbole des polynômes\n",
    "PR.<X>=PolynomialRing(QQ) #ou PR.<X>=QQ[]\n",
    "\n",
    "print(\"type de x: \",x.parent())\n",
    "print(\"type de X: \",X.parent())\n",
    "bool(X==x)"
   ]
  },
  {
   "cell_type": "code",
   "execution_count": null,
   "metadata": {},
   "outputs": [],
   "source": [
    "print((2*X+4).parent()) \n",
    "print((2*x+4).parent()) \n",
    "print((2*X+ cos(3)).parent())\n",
    "print((2*X+0.5).parent()) # attention coercion vers les polynomes à coefficient dans RR\n",
    "RR"
   ]
  },
  {
   "cell_type": "code",
   "execution_count": null,
   "metadata": {},
   "outputs": [],
   "source": [
    "# on convertit les expressions symboliques vers les polynomes en substituant \n",
    "# la variable x par celle des polynômes en X et en construisant le polynôme associé\n",
    "polyE=PR(E.subs(x=X)) \n",
    "polyF=PR(F.subs(x=X))\n",
    "polyEF=polyE*polyF\n",
    "show(f\"une expression symbolique: {E=}\")\n",
    "show(f\"un polynomes: {polyE=}\")\n"
   ]
  },
  {
   "cell_type": "code",
   "execution_count": null,
   "metadata": {},
   "outputs": [],
   "source": [
    "# calcul des racines dans le domaine de définition du polynome (ici Q)\n",
    "print(f\"calcul des racines sur {polyEF.base_ring()}\")\n",
    "polyEF.roots()"
   ]
  },
  {
   "cell_type": "code",
   "execution_count": null,
   "metadata": {},
   "outputs": [],
   "source": [
    "# calcul des racines dans C\n",
    "R=polyEF.roots(CC)\n",
    "R"
   ]
  },
  {
   "cell_type": "code",
   "execution_count": null,
   "metadata": {},
   "outputs": [],
   "source": [
    "R[0][0],polyEF(R[0][0])"
   ]
  },
  {
   "cell_type": "code",
   "execution_count": null,
   "metadata": {},
   "outputs": [],
   "source": [
    "polyEF(ComplexField(80)(R[0][0]))"
   ]
  },
  {
   "cell_type": "code",
   "execution_count": null,
   "metadata": {},
   "outputs": [],
   "source": [
    "# calcul de la forme canonique d'un produit de polynômes\n",
    "E1= (x+1)^100 - (x+2)^99\n",
    "F1= (x+1)^100 + (x+2)^99\n",
    "polyE1=PR(E.subs(x=X)) \n",
    "polyF1=PR(F.subs(x=X))\n",
    "\n",
    "# via la representation par arbre (exp symbolique)\n",
    "%time (E1*F1).expand() \n",
    "# via la representation par liste des coefficients\n",
    "%time polyEF1=polyE1*polyF1 "
   ]
  },
  {
   "cell_type": "markdown",
   "metadata": {},
   "source": [
    "**A RETENIR**\n",
    "- le calcul symbolique permet de manipuler n'importe quelles expressions faisant intervenir des symboles et des fonctions \n",
    "- pas toujours possible de trouver des solutions avec uniquement des calculs symboliques\n",
    "- l'utilisation de calcul algèbrique est souvent préférable si on connaît la structure mathématique sous-jacente (Ex. les polynômes, les matrices, ...)\n",
    "- le calcul algébrique sera la plupart du temps plus rapide\n",
    "- parfois on retrouve un mélange de calcul algébrique et numérique (résolution dans les complexes si le problème est défini sur les nombres rationnels)"
   ]
  },
  {
   "cell_type": "markdown",
   "metadata": {},
   "source": [
    "## Les matrices"
   ]
  },
  {
   "cell_type": "code",
   "execution_count": null,
   "metadata": {},
   "outputs": [],
   "source": [
    "A=matrix([[1,2],[3,4]])\n",
    "B=matrix([[1,2,3],[4,5,6]])\n",
    "print(A,B)\n",
    "show(A,B)"
   ]
  },
  {
   "cell_type": "code",
   "execution_count": null,
   "metadata": {},
   "outputs": [],
   "source": [
    "# addition de matrice\n",
    "show(A+A)\n",
    "# multiplication par un scalaire\n",
    "show(3*A , A+A+A)"
   ]
  },
  {
   "cell_type": "code",
   "execution_count": null,
   "metadata": {},
   "outputs": [],
   "source": [
    "show(\"A=\",A)\n",
    "show(\"B=\",B)\n",
    "\n",
    "A+B"
   ]
  },
  {
   "cell_type": "markdown",
   "metadata": {},
   "source": [
    "### matrices et combinaisons linéaires"
   ]
  },
  {
   "cell_type": "code",
   "execution_count": null,
   "metadata": {},
   "outputs": [],
   "source": [
    "# une combinaison linéaire de symboles\n",
    "var('x y z')\n",
    "e=[x,y,z]\n",
    "3*e[0]+2*e[1]+5*e[2]"
   ]
  },
  {
   "cell_type": "code",
   "execution_count": null,
   "metadata": {},
   "outputs": [],
   "source": [
    "u=matrix(1,3,[1,2,3])\n",
    "v=matrix(3,1,e)\n",
    "show(u,v)"
   ]
  },
  {
   "cell_type": "code",
   "execution_count": null,
   "metadata": {},
   "outputs": [],
   "source": [
    "# le produit de matrice n*1 par 1*n est une combinaison linéaire\n",
    "u*v"
   ]
  },
  {
   "cell_type": "code",
   "execution_count": null,
   "metadata": {},
   "outputs": [],
   "source": []
  },
  {
   "cell_type": "code",
   "execution_count": null,
   "metadata": {},
   "outputs": [],
   "source": [
    "# on peut augmenter le nombre de combinaisons linéaires (on ajoute une ligne à gauche)\n",
    "B=matrix(2,3,[1,2,3,4,5,6])\n",
    "show(B,v)\n",
    "show(B*v)"
   ]
  },
  {
   "cell_type": "code",
   "execution_count": null,
   "metadata": {},
   "outputs": [],
   "source": [
    "# on peut augmenter le nombre de combinaisons linéaires (on ajoute une colonne à droite)\n",
    "var('x,y,z,a,b,c')\n",
    "V=matrix(3,2,[[x,a],[y,b],[z,c]])\n",
    "show(V)\n",
    "show(B*V)"
   ]
  },
  {
   "cell_type": "code",
   "execution_count": null,
   "metadata": {},
   "outputs": [],
   "source": [
    "# ATTENTION: les tailles des matrices doivent correspondre\n",
    "show(V)\n",
    "V*V"
   ]
  },
  {
   "cell_type": "code",
   "execution_count": null,
   "metadata": {},
   "outputs": [],
   "source": [
    "# ATTENTION: le produit matriciel n'est pas commutatif\n",
    "bool(V*B==B*V)"
   ]
  },
  {
   "cell_type": "code",
   "execution_count": null,
   "metadata": {},
   "outputs": [],
   "source": [
    "show(V*B,B*V)"
   ]
  },
  {
   "cell_type": "code",
   "execution_count": null,
   "metadata": {},
   "outputs": [],
   "source": [
    "# On peut transposer une matrice câd intervertir A[i,j] avec A[j,i]\n",
    "show(V)\n",
    "show(V.transpose())"
   ]
  },
  {
   "cell_type": "code",
   "execution_count": null,
   "metadata": {},
   "outputs": [],
   "source": [
    "# le produit d'une matrice par sa transposée est toujours bien défini\n",
    "show(V.transpose()*V)\n",
    "show(V*V.transpose())"
   ]
  },
  {
   "cell_type": "markdown",
   "metadata": {},
   "source": [
    "### Les espaces de matrices"
   ]
  },
  {
   "cell_type": "code",
   "execution_count": null,
   "metadata": {},
   "outputs": [],
   "source": [
    "# le premier paramètres est le domaine des coefficients (optionnel)\n",
    "# si il est présent il impose le type des coefficients\n",
    "A=matrix([[1,2],[3,4]])\n",
    "B=matrix(RR,[[1,2/3],[3,4]])\n",
    "C=matrix([[1,2/3],[3,4]])\n",
    "A.parent(),B.parent(),C.parent()"
   ]
  },
  {
   "cell_type": "code",
   "execution_count": null,
   "metadata": {},
   "outputs": [],
   "source": [
    "matrix(ZZ,[[1,2/3],[3,4]])"
   ]
  },
  {
   "cell_type": "code",
   "execution_count": null,
   "metadata": {},
   "outputs": [],
   "source": [
    "# le second/troisièmes paramètres sont les dimensions (optionnel)\n",
    "# si ils sont présents ils imposent le nombre de coefficients (si aucun que des zéros)\n",
    "A=matrix(ZZ,2,2)\n",
    "B=matrix(ZZ,2,2,[[4,5],[6,7]])\n",
    "C=matrix(ZZ,2,2,[4,5,6,7])\n",
    "show(A)\n",
    "show(B)\n",
    "show(C)"
   ]
  },
  {
   "cell_type": "code",
   "execution_count": null,
   "metadata": {},
   "outputs": [],
   "source": [
    "# Comme les matrices vivent dans un espace de matrice on peut définir cet objet\n",
    "MS23=MatrixSpace(ZZ,2,3)\n",
    "MS22=MatrixSpace(QQ,2,2)\n",
    "show(MS22,\"\\tet\\t\",MS23)\n",
    "MS22,MS23"
   ]
  },
  {
   "cell_type": "code",
   "execution_count": null,
   "metadata": {},
   "outputs": [],
   "source": [
    "MS23.dimension() , MS23.dims()"
   ]
  },
  {
   "cell_type": "code",
   "execution_count": null,
   "metadata": {},
   "outputs": [],
   "source": [
    "A=MS22.matrix([1,2,3,4])\n",
    "A.parent()"
   ]
  },
  {
   "cell_type": "code",
   "execution_count": null,
   "metadata": {},
   "outputs": [],
   "source": [
    "MS22.random_element()\n",
    "show(_)"
   ]
  },
  {
   "cell_type": "code",
   "execution_count": null,
   "metadata": {},
   "outputs": [],
   "source": [
    "MS10=MatrixSpace(ZZ,10,10)\n",
    "MS10.random_element(density=1,x=0,y=100)\n",
    "show(_)"
   ]
  },
  {
   "cell_type": "code",
   "execution_count": null,
   "metadata": {},
   "outputs": [],
   "source": [
    "MS10=MS10.change_ring(QQ)\n",
    "MS10.random_element(density=0.5,num_bound=100,den_bound=100)\n",
    "show(_)"
   ]
  },
  {
   "cell_type": "markdown",
   "metadata": {},
   "source": [
    "### un peu de calcul algébrique matriciel"
   ]
  },
  {
   "cell_type": "code",
   "execution_count": null,
   "metadata": {},
   "outputs": [],
   "source": [
    "N=10\n",
    "q=17\n",
    "MS=MatrixSpace(GF(q),N,N)\n",
    "A=MS.random_element()\n",
    "show(\"A=\",A)\n",
    "show(f\"det(A)={A.det()}\")"
   ]
  },
  {
   "cell_type": "code",
   "execution_count": null,
   "metadata": {},
   "outputs": [],
   "source": [
    "B=A.change_ring(ZZ)\n",
    "show(\"B=\",B)\n",
    "show(f\"det(B)={B.det()}\")"
   ]
  },
  {
   "cell_type": "code",
   "execution_count": null,
   "metadata": {},
   "outputs": [],
   "source": [
    "B.det()%q == A.det()"
   ]
  },
  {
   "cell_type": "code",
   "execution_count": null,
   "metadata": {},
   "outputs": [],
   "source": [
    "show(A^-1)"
   ]
  },
  {
   "cell_type": "code",
   "execution_count": null,
   "metadata": {},
   "outputs": [],
   "source": [
    "show(B^-1)"
   ]
  },
  {
   "cell_type": "code",
   "execution_count": null,
   "metadata": {},
   "outputs": [],
   "source": [
    "(B^(-1)%q), A^-1\n",
    "show(_)"
   ]
  },
  {
   "cell_type": "code",
   "execution_count": null,
   "metadata": {},
   "outputs": [],
   "source": [
    "# Expliquer le résultat obtenu\n",
    "(B^(-1)%q) ==  A^-1"
   ]
  },
  {
   "cell_type": "code",
   "execution_count": null,
   "metadata": {},
   "outputs": [],
   "source": []
  },
  {
   "cell_type": "code",
   "execution_count": null,
   "metadata": {},
   "outputs": [],
   "source": []
  },
  {
   "cell_type": "code",
   "execution_count": null,
   "metadata": {},
   "outputs": [],
   "source": []
  },
  {
   "cell_type": "code",
   "execution_count": null,
   "metadata": {},
   "outputs": [],
   "source": [
    "(B^(-1)%q).parent(),(A^-1).parent()"
   ]
  },
  {
   "cell_type": "code",
   "execution_count": null,
   "metadata": {},
   "outputs": [],
   "source": [
    "(B^(-1)%q) ==  (A^-1).change_ring(B.base_ring())"
   ]
  },
  {
   "cell_type": "code",
   "execution_count": null,
   "metadata": {},
   "outputs": [],
   "source": [
    "(B^(-1)).change_ring(A.base_ring()) ==  (A^-1)"
   ]
  },
  {
   "cell_type": "code",
   "execution_count": null,
   "metadata": {},
   "outputs": [],
   "source": []
  },
  {
   "cell_type": "code",
   "execution_count": null,
   "metadata": {},
   "outputs": [],
   "source": []
  }
 ],
 "metadata": {
  "celltoolbar": "Éditer les Méta-Données",
  "kernelspec": {
   "display_name": "SageMath 9.0",
   "language": "sage",
   "name": "sagemath"
  },
  "language_info": {
   "codemirror_mode": {
    "name": "ipython",
    "version": 3
   },
   "file_extension": ".py",
   "mimetype": "text/x-python",
   "name": "python",
   "nbconvert_exporter": "python",
   "pygments_lexer": "ipython3",
   "version": "3.8.10"
  },
  "toc": {
   "base_numbering": 1,
   "nav_menu": {},
   "number_sections": true,
   "sideBar": true,
   "skip_h1_title": true,
   "title_cell": "Table of Contents",
   "title_sidebar": "Contents",
   "toc_cell": false,
   "toc_position": {
    "height": "calc(100% - 180px)",
    "left": "10px",
    "top": "150px",
    "width": "165px"
   },
   "toc_section_display": true,
   "toc_window_display": true
  },
  "varInspector": {
   "cols": {
    "lenName": 16,
    "lenType": 16,
    "lenVar": 40
   },
   "kernels_config": {
    "python": {
     "delete_cmd_postfix": "",
     "delete_cmd_prefix": "del ",
     "library": "var_list.py",
     "varRefreshCmd": "print(var_dic_list())"
    },
    "r": {
     "delete_cmd_postfix": ") ",
     "delete_cmd_prefix": "rm(",
     "library": "var_list.r",
     "varRefreshCmd": "cat(var_dic_list()) "
    }
   },
   "types_to_exclude": [
    "module",
    "function",
    "builtin_function_or_method",
    "instance",
    "_Feature"
   ],
   "window_display": false
  }
 },
 "nbformat": 4,
 "nbformat_minor": 4
}

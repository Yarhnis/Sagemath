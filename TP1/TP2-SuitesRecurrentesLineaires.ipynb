{
 "cells": [
  {
   "cell_type": "markdown",
   "metadata": {
    "deletable": false,
    "editable": false,
    "run_control": {
     "frozen": true
    }
   },
   "source": [
    "# Suites récurrentes linéaires à coefficients constants\n",
    "\n",
    "L'objectif de ce TP est de découvrir comment utiliser SageMath pour étudier des suites définies par récurrence. Un exemple parmi d'autres est la célèbre suite de Fibonacci. La complexité des algorithmes récursifs, définie par une équation de récurrence, est un autre exemple très fréquent. Savoir étudier ces suites est très utile en informatique.\n",
    "\n",
    "Le sujet présente des aspects numériques (calculer les termes), graphiques (représenter la suite), symboliques (trouver une formule), etc.\n",
    "\n",
    "On commence par l'étude des approches possibles pour la suite de Fibonacci, puis on généralise pour les suites récurrentes linéaires à coefficients constants, c'est-à-dire de suites $(u_n)_n$ définies par\n",
    "$$ u_{n+k} = a_0u_n + a_1u_{n+1} + \\dotsb + a_{k-1}u_{n-k+1}.$$"
   ]
  },
  {
   "cell_type": "markdown",
   "metadata": {
    "deletable": false,
    "editable": false,
    "run_control": {
     "frozen": true
    }
   },
   "source": [
    "## Étude numérique de la suite de Fibonacci\n",
    "On définit la suite de Fibonacci $(F_n)$ par $F_0 = 0$, $F_1 = 1$ et $F_{n+2} = F_{n+1} + F_n$."
   ]
  },
  {
   "cell_type": "markdown",
   "metadata": {
    "deletable": false,
    "editable": false,
    "run_control": {
     "frozen": true
    }
   },
   "source": [
    "### Question\n",
    "1. Écrire une fonction récursive `fibonacci` qui calcule le $n$-ème terme de la suite de Fibonacci directement grâce à la formule précédente.\n",
    "1. Calculer les dix premiers termes. \n",
    "1. Essayer de calculer le 100-ème terme : expliquer."
   ]
  },
  {
   "cell_type": "code",
   "execution_count": 1,
   "metadata": {},
   "outputs": [
    {
     "data": {
      "text/plain": [
       "55"
      ]
     },
     "execution_count": 1,
     "metadata": {},
     "output_type": "execute_result"
    }
   ],
   "source": [
    "def fibonacci(n):\n",
    "    if(n <= 1):\n",
    "        return n\n",
    "    else:\n",
    "        return (fibonacci(n-1) + fibonacci(n-2))\n",
    "    \n",
    "fibonacci(10)"
   ]
  },
  {
   "cell_type": "code",
   "execution_count": 2,
   "metadata": {},
   "outputs": [
    {
     "data": {
      "text/html": [
       "<html><script type=\"math/tex; mode=display\">\\newcommand{\\Bold}[1]{\\mathbf{#1}}\\left[0, 1, 1, 2, 3, 5, 8, 13, 21, 34\\right]</script></html>"
      ],
      "text/plain": [
       "[0, 1, 1, 2, 3, 5, 8, 13, 21, 34]"
      ]
     },
     "metadata": {},
     "output_type": "display_data"
    }
   ],
   "source": [
    "L = [fibonacci(n) for n in range(0,10)]\n",
    "show(L)"
   ]
  },
  {
   "cell_type": "code",
   "execution_count": null,
   "metadata": {},
   "outputs": [],
   "source": [
    "a = fibonacci(100)\n",
    "print(a)"
   ]
  },
  {
   "cell_type": "markdown",
   "metadata": {
    "deletable": false,
    "editable": false,
    "run_control": {
     "frozen": true
    }
   },
   "source": [
    "### Question\n",
    "1. Réécrire la fonction `fibonacci` de manière plus intelligente pour calculer rapidement le $n$-ème terme.\n",
    "1. Tester avec $n = 100$, $1000$, $10000$.\n",
    "1. Trouver approximativement la valeur $n$ pour laquelle le calcul de $F_n$ prend environ 1 seconde. Ne pas afficher la valeur de $F_n$ mais son nombre de chiffres (avec la méthode `ndigits` des entiers). *On peut utiliser `%time` pour mesurer le temps de calcul.*"
   ]
  },
  {
   "cell_type": "code",
   "execution_count": null,
   "metadata": {},
   "outputs": [],
   "source": [
    "def fibonacci2(n):\n",
    "    a = 0\n",
    "    b = 1\n",
    "    for i in range(1,n-1):\n",
    "        c = a + b\n",
    "        a = b\n",
    "        b = c\n",
    "    return b\n",
    "\n",
    "print(fibonacci2(10))"
   ]
  },
  {
   "cell_type": "code",
   "execution_count": null,
   "metadata": {},
   "outputs": [],
   "source": [
    "print(fibonacci2(100))\n",
    "print(fibonacci2(1000))\n",
    "print(fibonacci2(10000))"
   ]
  },
  {
   "cell_type": "code",
   "execution_count": null,
   "metadata": {},
   "outputs": [],
   "source": [
    "import time\n",
    "\n",
    "def fibonacciTime(s):\n",
    "    for i in range(10,1000000):\n",
    "        t = time.process_time()\n",
    "        a =fibonacci2(i) \n",
    "        t = time.process_time() - t\n",
    "        if t >= s:\n",
    "            return fibonacci2(i).ndigits()\n",
    "    return s\n",
    "\n",
    "%time a = fibonacci2(618000)\n",
    "print(a.ndigits())"
   ]
  },
  {
   "cell_type": "code",
   "execution_count": null,
   "metadata": {},
   "outputs": [],
   "source": []
  },
  {
   "cell_type": "markdown",
   "metadata": {
    "deletable": false,
    "editable": false,
    "run_control": {
     "frozen": true
    }
   },
   "source": [
    "### Question\n",
    "1. Écrire une fonction `liste_fibonacci` qui prend en entrée $n$ et calcul la liste des $F_k$ pour tout $k < n$. _**Ne pas** utiliser la fonction `fibonacci` !_\n",
    "1. En utilisant `list_plot`, représenter les 100 premiers termes de la suite de Fibonacci."
   ]
  },
  {
   "cell_type": "code",
   "execution_count": 11,
   "metadata": {},
   "outputs": [],
   "source": [
    "def liste_fibonacci(n):\n",
    "    l = [0,1]\n",
    "    for i in range(1,n):\n",
    "        l.append(l[i-1] + l[i])\n",
    "    return l"
   ]
  },
  {
   "cell_type": "code",
   "execution_count": null,
   "metadata": {},
   "outputs": [],
   "source": [
    "F = liste_fibonacci(100)\n",
    "list_plot(F)"
   ]
  },
  {
   "cell_type": "code",
   "execution_count": null,
   "metadata": {},
   "outputs": [],
   "source": []
  },
  {
   "cell_type": "markdown",
   "metadata": {
    "deletable": false,
    "editable": false,
    "run_control": {
     "frozen": true
    }
   },
   "source": [
    "### Question\n",
    "1. Calculer la liste des valeurs $L_k = \\log_2(F_k)$ pour $0 < k < 1000$.\n",
    "1. Représenter graphiquement ces valeurs. Que peut-on conjecturer ?"
   ]
  },
  {
   "cell_type": "code",
   "execution_count": 12,
   "metadata": {},
   "outputs": [
    {
     "data": {
      "image/png": "[encoded data removed]",
      "text/plain": [
       "Graphics object consisting of 1 graphics primitive"
      ]
     },
     "execution_count": 12,
     "metadata": {},
     "output_type": "execute_result"
    }
   ],
   "source": [
    "L = list()\n",
    "F = liste_fibonacci(100)\n",
    "\n",
    "for i in range(1,len(F)-1):\n",
    "    L.append(log(F[i].n(),2))\n",
    "\n",
    "list_plot(L) "
   ]
  },
  {
   "cell_type": "code",
   "execution_count": null,
   "metadata": {},
   "outputs": [],
   "source": []
  },
  {
   "cell_type": "code",
   "execution_count": null,
   "metadata": {},
   "outputs": [],
   "source": []
  },
  {
   "cell_type": "markdown",
   "metadata": {
    "deletable": false,
    "editable": false,
    "run_control": {
     "frozen": true
    }
   },
   "source": [
    "### Question\n",
    "La fonction `find_fit` permet de calculer (une approximation de) la fonction définie par les valeurs calculées. Pour cela, on définit un *modèle*, qui est la forme de la fonction voulue : ici on prend une fonction linéaire $f(x) = ax+b$ où $a$ et $b$ sont des inconnues. Ensuite on fournit un ensemble de couples $(x,y)$ et le modèle à `find_fit`, qui cherche alors les valeurs de $a$ et $b$ qui fournissent la meilleure solution.\n",
    "1. Définir les variables symboliques `x`, `a` et `b` et la fonction symbolique $f(x) = ax+b$. \n",
    "2. Calculer l'ensemble des couples, et appliquer `find_fit` pour trouver $a$ et $b$."
   ]
  },
  {
   "cell_type": "code",
   "execution_count": 39,
   "metadata": {},
   "outputs": [],
   "source": [
    "var('x','a','b')\n",
    "f(x) = a*x + b"
   ]
  },
  {
   "cell_type": "code",
   "execution_count": 17,
   "metadata": {},
   "outputs": [
    {
     "data": {
      "text/html": [
       "<html><script type=\"math/tex; mode=display\">\\newcommand{\\Bold}[1]{\\mathbf{#1}}\\left[\\left[0, 0.000000000000000\\right], \\left[1, 0.000000000000000\\right], \\left[2, 1.00000000000000\\right], \\left[3, 1.58496250072116\\right], \\left[4, 2.32192809488736\\right], \\left[5, 3.00000000000000\\right], \\left[6, 3.70043971814109\\right], \\left[7, 4.39231742277876\\right], \\left[8, 5.08746284125034\\right], \\left[9, 5.78135971352466\\right], \\left[10, 6.47573343096640\\right], \\left[11, 7.16992500144231\\right], \\left[12, 7.86418614465428\\right], \\left[13, 8.55842071326866\\right], \\left[14, 9.25266543245025\\right], \\left[15, 9.94690627445640\\right], \\left[16, 10.6411485974112\\right], \\left[17, 11.3353903546939\\right], \\left[18, 12.0296323280441\\right], \\left[19, 12.7238742188639\\right], \\left[20, 13.4181161412075\\right], \\left[21, 14.1123580515100\\right], \\left[22, 14.8065999664119\\right], \\left[23, 15.5008418795569\\right], \\left[24, 16.1950837933730\\right], \\left[25, 16.8893257069328\\right], \\left[26, 17.5835676205905\\right], \\left[27, 18.2778095342107\\right], \\left[28, 18.9720514478453\\right], \\left[29, 19.6662933614744\\right], \\left[30, 20.3605352751056\\right], \\left[31, 21.0547771887360\\right], \\left[32, 21.7490191023667\\right], \\left[33, 22.4432610159973\\right], \\left[34, 23.1375029296279\\right], \\left[35, 23.8317448432585\\right], \\left[36, 24.5259867568892\\right], \\left[37, 25.2202286705198\\right], \\left[38, 25.9144705841504\\right], \\left[39, 26.6087124977810\\right], \\left[40, 27.3029544114116\\right], \\left[41, 27.9971963250422\\right], \\left[42, 28.6914382386729\\right], \\left[43, 29.3856801523035\\right], \\left[44, 30.0799220659341\\right], \\left[45, 30.7741639795647\\right], \\left[46, 31.4684058931953\\right], \\left[47, 32.1626478068260\\right], \\left[48, 32.8568897204566\\right], \\left[49, 33.5511316340872\\right], \\left[50, 34.2453735477178\\right], \\left[51, 34.9396154613484\\right], \\left[52, 35.6338573749790\\right], \\left[53, 36.3280992886096\\right], \\left[54, 37.0223412022403\\right], \\left[55, 37.7165831158709\\right], \\left[56, 38.4108250295015\\right], \\left[57, 39.1050669431321\\right], \\left[58, 39.7993088567627\\right], \\left[59, 40.4935507703934\\right], \\left[60, 41.1877926840240\\right], \\left[61, 41.8820345976546\\right], \\left[62, 42.5762765112852\\right], \\left[63, 43.2705184249158\\right], \\left[64, 43.9647603385464\\right], \\left[65, 44.6590022521771\\right], \\left[66, 45.3532441658077\\right], \\left[67, 46.0474860794383\\right], \\left[68, 46.7417279930689\\right], \\left[69, 47.4359699066995\\right], \\left[70, 48.1302118203301\\right], \\left[71, 48.8244537339608\\right], \\left[72, 49.5186956475914\\right], \\left[73, 50.2129375612220\\right], \\left[74, 50.9071794748526\\right], \\left[75, 51.6014213884832\\right], \\left[76, 52.2956633021139\\right], \\left[77, 52.9899052157445\\right], \\left[78, 53.6841471293751\\right], \\left[79, 54.3783890430057\\right], \\left[80, 55.0726309566363\\right], \\left[81, 55.7668728702669\\right], \\left[82, 56.4611147838976\\right], \\left[83, 57.1553566975282\\right], \\left[84, 57.8495986111588\\right], \\left[85, 58.5438405247894\\right], \\left[86, 59.2380824384200\\right], \\left[87, 59.9323243520506\\right], \\left[88, 60.6265662656813\\right], \\left[89, 61.3208081793119\\right], \\left[90, 62.0150500929425\\right], \\left[91, 62.7092920065731\\right], \\left[92, 63.4035339202037\\right], \\left[93, 64.0977758338343\\right], \\left[94, 64.7920177474650\\right], \\left[95, 65.4862596610956\\right], \\left[96, 66.1805015747262\\right], \\left[97, 66.8747434883568\\right], \\left[98, 67.5689854019874\\right]\\right]</script></html>"
      ],
      "text/plain": [
       "[[0, 0.000000000000000],\n",
       " [1, 0.000000000000000],\n",
       " [2, 1.00000000000000],\n",
       " [3, 1.58496250072116],\n",
       " [4, 2.32192809488736],\n",
       " [5, 3.00000000000000],\n",
       " [6, 3.70043971814109],\n",
       " [7, 4.39231742277876],\n",
       " [8, 5.08746284125034],\n",
       " [9, 5.78135971352466],\n",
       " [10, 6.47573343096640],\n",
       " [11, 7.16992500144231],\n",
       " [12, 7.86418614465428],\n",
       " [13, 8.55842071326866],\n",
       " [14, 9.25266543245025],\n",
       " [15, 9.94690627445640],\n",
       " [16, 10.6411485974112],\n",
       " [17, 11.3353903546939],\n",
       " [18, 12.0296323280441],\n",
       " [19, 12.7238742188639],\n",
       " [20, 13.4181161412075],\n",
       " [21, 14.1123580515100],\n",
       " [22, 14.8065999664119],\n",
       " [23, 15.5008418795569],\n",
       " [24, 16.1950837933730],\n",
       " [25, 16.8893257069328],\n",
       " [26, 17.5835676205905],\n",
       " [27, 18.2778095342107],\n",
       " [28, 18.9720514478453],\n",
       " [29, 19.6662933614744],\n",
       " [30, 20.3605352751056],\n",
       " [31, 21.0547771887360],\n",
       " [32, 21.7490191023667],\n",
       " [33, 22.4432610159973],\n",
       " [34, 23.1375029296279],\n",
       " [35, 23.8317448432585],\n",
       " [36, 24.5259867568892],\n",
       " [37, 25.2202286705198],\n",
       " [38, 25.9144705841504],\n",
       " [39, 26.6087124977810],\n",
       " [40, 27.3029544114116],\n",
       " [41, 27.9971963250422],\n",
       " [42, 28.6914382386729],\n",
       " [43, 29.3856801523035],\n",
       " [44, 30.0799220659341],\n",
       " [45, 30.7741639795647],\n",
       " [46, 31.4684058931953],\n",
       " [47, 32.1626478068260],\n",
       " [48, 32.8568897204566],\n",
       " [49, 33.5511316340872],\n",
       " [50, 34.2453735477178],\n",
       " [51, 34.9396154613484],\n",
       " [52, 35.6338573749790],\n",
       " [53, 36.3280992886096],\n",
       " [54, 37.0223412022403],\n",
       " [55, 37.7165831158709],\n",
       " [56, 38.4108250295015],\n",
       " [57, 39.1050669431321],\n",
       " [58, 39.7993088567627],\n",
       " [59, 40.4935507703934],\n",
       " [60, 41.1877926840240],\n",
       " [61, 41.8820345976546],\n",
       " [62, 42.5762765112852],\n",
       " [63, 43.2705184249158],\n",
       " [64, 43.9647603385464],\n",
       " [65, 44.6590022521771],\n",
       " [66, 45.3532441658077],\n",
       " [67, 46.0474860794383],\n",
       " [68, 46.7417279930689],\n",
       " [69, 47.4359699066995],\n",
       " [70, 48.1302118203301],\n",
       " [71, 48.8244537339608],\n",
       " [72, 49.5186956475914],\n",
       " [73, 50.2129375612220],\n",
       " [74, 50.9071794748526],\n",
       " [75, 51.6014213884832],\n",
       " [76, 52.2956633021139],\n",
       " [77, 52.9899052157445],\n",
       " [78, 53.6841471293751],\n",
       " [79, 54.3783890430057],\n",
       " [80, 55.0726309566363],\n",
       " [81, 55.7668728702669],\n",
       " [82, 56.4611147838976],\n",
       " [83, 57.1553566975282],\n",
       " [84, 57.8495986111588],\n",
       " [85, 58.5438405247894],\n",
       " [86, 59.2380824384200],\n",
       " [87, 59.9323243520506],\n",
       " [88, 60.6265662656813],\n",
       " [89, 61.3208081793119],\n",
       " [90, 62.0150500929425],\n",
       " [91, 62.7092920065731],\n",
       " [92, 63.4035339202037],\n",
       " [93, 64.0977758338343],\n",
       " [94, 64.7920177474650],\n",
       " [95, 65.4862596610956],\n",
       " [96, 66.1805015747262],\n",
       " [97, 66.8747434883568],\n",
       " [98, 67.5689854019874]]"
      ]
     },
     "metadata": {},
     "output_type": "display_data"
    },
    {
     "data": {
      "text/html": [
       "<html><script type=\"math/tex; mode=display\">\\newcommand{\\Bold}[1]{\\mathbf{#1}}\\left[a = 0.6940615851773403, b = \\left(-0.4549079396853332\\right)\\right]</script></html>"
      ],
      "text/plain": [
       "[a == 0.6940615851773403, b == -0.4549079396853332]"
      ]
     },
     "metadata": {},
     "output_type": "display_data"
    }
   ],
   "source": [
    "couples = [[x,L[x]] for x in range(100-1)]\n",
    "show(couples)\n",
    "\n",
    "res = find_fit(couples,f)\n",
    "show(res)"
   ]
  },
  {
   "cell_type": "markdown",
   "metadata": {
    "deletable": false,
    "editable": false,
    "run_control": {
     "frozen": true
    }
   },
   "source": [
    "### Question\n",
    "1. Récupérer les valeurs des coefficients `a` et `b` calculés : `expr.rhs()` fournit le terme de droite d'une égalité (*right-hand side*).\n",
    "2. Définir une fonction symbolique $F(x)$ qui approche la suite de Fibonacci pour les valeurs entières de $x$. *Chercher à donner l'expression la plus simple possible pour $F$. Attention: a et b ont été calculés à partir du logarithme des valeurs de Fibonacci.*\n",
    "3. Représenter graphiquement $F$ et la suite de Fibonacci pour comparer. *Utiliser des couleurs différentes.*\n"
   ]
  },
  {
   "cell_type": "code",
   "execution_count": 18,
   "metadata": {},
   "outputs": [
    {
     "data": {
      "text/html": [
       "<html><script type=\"math/tex; mode=display\">\\newcommand{\\Bold}[1]{\\mathbf{#1}}0.6940615851773403 \\phantom{\\verb!xx!}\\verb|_______| -0.4549079396853332</script></html>"
      ],
      "text/plain": [
       "0.6940615851773403 '  _______ ' -0.4549079396853332"
      ]
     },
     "metadata": {},
     "output_type": "display_data"
    }
   ],
   "source": [
    "a = res[0].rhs()\n",
    "b = res[1].rhs()\n",
    "show(a, \"  _______ \",b)"
   ]
  },
  {
   "cell_type": "code",
   "execution_count": 19,
   "metadata": {},
   "outputs": [],
   "source": [
    "fib(x) = 2**(a*x + b)"
   ]
  },
  {
   "cell_type": "code",
   "execution_count": 20,
   "metadata": {},
   "outputs": [
    {
     "data": {
      "image/png": "[encoded data removed]",
      "text/plain": [
       "Graphics object consisting of 2 graphics primitives"
      ]
     },
     "execution_count": 20,
     "metadata": {},
     "output_type": "execute_result"
    }
   ],
   "source": [
    "plot(fib,0,100,color=\"red\")+list_plot(F,color=\"cyan\")"
   ]
  },
  {
   "cell_type": "markdown",
   "metadata": {
    "deletable": false,
    "editable": false,
    "run_control": {
     "frozen": true
    }
   },
   "source": [
    "## Calcul exact de la suite de Fibonacci\n",
    "Dans la première partie, on a vu comment trouver une valeur approximative de la suite. On cherche maintenant une expression la plus exacte possible de $F_n$ en fonction de $n$, toujours en utilisant les capacités de calcul de SageMath."
   ]
  },
  {
   "cell_type": "markdown",
   "metadata": {
    "deletable": false,
    "editable": false,
    "run_control": {
     "frozen": true
    }
   },
   "source": [
    "### Question\n",
    "On a vu que $F_n$ a une croissance exponentielle. Pour trouver une formule pour $F_n$, on commence par chercher les valeurs de $\\alpha$ telles que $\\alpha^n$ satisfasse l'équation de récurrence de $F_n$, sans s'occuper des cas de base.\n",
    "1. Définir les variables $n$ et $\\alpha$, et écrire l'équation qu'on souhaite résoudre sur $\\alpha$.\n",
    "2. Utiliser `solve` pour trouver les solutions de l'équation. *Si nécessaire, aider SageMath en écrivant l'équation sous la forme `... == 0`, et en factorisant l'équation à l'aide de `factor` avant de demander la résolution.*\n",
    "3. Vérifier que $\\alpha^n$ satisfait bien l'équation de récurrence, pour chacune des solutions $\\alpha$ trouvées. *Pour forcer SageMath à vérifier une équation, on peut utiliser `bool(...)`.*"
   ]
  },
  {
   "cell_type": "code",
   "execution_count": 38,
   "metadata": {},
   "outputs": [
    {
     "data": {
      "text/html": [
       "<html><script type=\"math/tex; mode=display\">\\newcommand{\\Bold}[1]{\\mathbf{#1}}{\\left(a^{2} - a - 1\\right)} a^{n} = 0</script></html>"
      ],
      "text/plain": [
       "(a^2 - a - 1)*a^n == 0"
      ]
     },
     "metadata": {},
     "output_type": "display_data"
    }
   ],
   "source": [
    "var('n','a')\n",
    "alpha(n) = a**n\n",
    "\n",
    "eq = alpha(n+2) - (alpha(n+1) + alpha(n)) == 0\n",
    "eq = factor(eq)\n",
    "\n",
    "show(eq)"
   ]
  },
  {
   "cell_type": "code",
   "execution_count": 2,
   "metadata": {},
   "outputs": [
    {
     "data": {
      "text/html": [
       "<html><script type=\"math/tex; mode=display\">\\newcommand{\\Bold}[1]{\\mathbf{#1}}\\left[a = -\\frac{1}{2} \\, \\sqrt{5} + \\frac{1}{2}, a = \\frac{1}{2} \\, \\sqrt{5} + \\frac{1}{2}, a = 0\\right]</script></html>"
      ],
      "text/plain": [
       "[a == -1/2*sqrt(5) + 1/2, a == 1/2*sqrt(5) + 1/2, a == 0]"
      ]
     },
     "metadata": {},
     "output_type": "display_data"
    }
   ],
   "source": [
    "res = solve(eq,a)\n",
    "show(res)"
   ]
  },
  {
   "cell_type": "code",
   "execution_count": 3,
   "metadata": {},
   "outputs": [
    {
     "data": {
      "text/html": [
       "<html><script type=\"math/tex; mode=display\">\\newcommand{\\Bold}[1]{\\mathbf{#1}}\\mathrm{True}</script></html>"
      ],
      "text/plain": [
       "True"
      ]
     },
     "metadata": {},
     "output_type": "display_data"
    },
    {
     "data": {
      "text/html": [
       "<html><script type=\"math/tex; mode=display\">\\newcommand{\\Bold}[1]{\\mathbf{#1}}\\mathrm{True}</script></html>"
      ],
      "text/plain": [
       "True"
      ]
     },
     "metadata": {},
     "output_type": "display_data"
    },
    {
     "data": {
      "text/html": [
       "<html><script type=\"math/tex; mode=display\">\\newcommand{\\Bold}[1]{\\mathbf{#1}}\\mathrm{True}</script></html>"
      ],
      "text/plain": [
       "True"
      ]
     },
     "metadata": {},
     "output_type": "display_data"
    }
   ],
   "source": [
    "a1 = res[0].rhs()\n",
    "a2 = res[1].rhs()\n",
    "a3 = res[2].rhs()\n",
    "show(bool(eq.subs(a=a1)))\n",
    "show(bool(eq.subs(a=a2)))\n",
    "show(bool(eq.subs(a=a3)))"
   ]
  },
  {
   "cell_type": "markdown",
   "metadata": {
    "deletable": false,
    "editable": false,
    "run_control": {
     "frozen": true
    }
   },
   "source": [
    "### Question\n",
    "On a trouvé des solutions qui satisfont l'équation de récurrence, mais sans faire attention aux conditions initiales.\n",
    "1. Est-ce que l'une des solutions $\\alpha^n$ satisfait les conditions initiales de la suite de Fibonacci ?\n",
    "2. Vérifier que si on a deux solutions $\\alpha_1^n$ et $\\alpha_2^n$, alors toute *combinaison linéaire* de ces deux solutions satisfait l'équation de récurrence. *Pour cela, définir des variables symboliques $c_1$ et $c_2$ et vérifier que $c_1\\alpha_1^n+c_2\\alpha_2^n$ satisfait la récurrence.*\n",
    "3. On cherche $c_1$ et $c_2$ telles que $c_1\\alpha_1^n+c_2\\alpha_2^n$ satisfasse les conditions initiales. Écrire l'équation correspondante et la résoudre à l'aide de `solve`."
   ]
  },
  {
   "cell_type": "code",
   "execution_count": 4,
   "metadata": {},
   "outputs": [
    {
     "data": {
      "text/html": [
       "<html><script type=\"math/tex; mode=display\">\\newcommand{\\Bold}[1]{\\mathbf{#1}}\\verb|a1|\\phantom{\\verb!x!}\\verb|:|\\phantom{\\verb!x!}\\verb|f0=| 1 \\phantom{\\verb!x!}\\verb|f1=| -\\frac{1}{2} \\, \\sqrt{5} + \\frac{1}{2}</script></html>"
      ],
      "text/plain": [
       "'a1 : f0=' 1 ' f1=' -1/2*sqrt(5) + 1/2"
      ]
     },
     "metadata": {},
     "output_type": "display_data"
    },
    {
     "data": {
      "text/html": [
       "<html><script type=\"math/tex; mode=display\">\\newcommand{\\Bold}[1]{\\mathbf{#1}}\\verb|a2|\\phantom{\\verb!x!}\\verb|:|\\phantom{\\verb!x!}\\verb|f0=| 1 \\phantom{\\verb!x!}\\verb|f1=| \\frac{1}{2} \\, \\sqrt{5} + \\frac{1}{2}</script></html>"
      ],
      "text/plain": [
       "'a2 : f0=' 1 ' f1=' 1/2*sqrt(5) + 1/2"
      ]
     },
     "metadata": {},
     "output_type": "display_data"
    },
    {
     "data": {
      "text/html": [
       "<html><script type=\"math/tex; mode=display\">\\newcommand{\\Bold}[1]{\\mathbf{#1}}\\verb|a3|\\phantom{\\verb!x!}\\verb|:|\\phantom{\\verb!x!}\\verb|f0=| 1 \\phantom{\\verb!x!}\\verb|f1=| 0</script></html>"
      ],
      "text/plain": [
       "'a3 : f0=' 1 ' f1=' 0"
      ]
     },
     "metadata": {},
     "output_type": "display_data"
    },
    {
     "name": "stdout",
     "output_type": "stream",
     "text": [
      "Aucune solution ne satisfait les conditions initiales\n"
     ]
    }
   ],
   "source": [
    "show(\"a1 : f0=\" ,alpha(0).subs(a=a1),\" f1=\" ,alpha(1).subs(a=a1))\n",
    "show(\"a2 : f0=\" ,alpha(0).subs(a=a2),\" f1=\" ,alpha(1).subs(a=a2))\n",
    "show(\"a3 : f0=\" ,alpha(0).subs(a=a3),\" f1=\" ,alpha(1).subs(a=a3))\n",
    "\n",
    "print(\"Aucune solution ne satisfait les conditions initiales\")"
   ]
  },
  {
   "cell_type": "code",
   "execution_count": 5,
   "metadata": {},
   "outputs": [
    {
     "data": {
      "text/html": [
       "<html><script type=\"math/tex; mode=display\">\\newcommand{\\Bold}[1]{\\mathbf{#1}}\\left[\\left[c_{1} = r_{2}, c_{2} = r_{1}\\right]\\right]</script></html>"
      ],
      "text/plain": [
       "[[c1 == r2, c2 == r1]]"
      ]
     },
     "metadata": {},
     "output_type": "display_data"
    }
   ],
   "source": [
    "var('c1','c2')\n",
    "eq2 = (c1*(a1**(n+2))) + (c2*(a2**(n+2))) == (c1*(a1**(n+1))) + (c2*(a2**(n+1))) + (c1*(a1**n)) + (c2*(a2**n))\n",
    "\n",
    "res = solve(eq2,(c1,c2))\n",
    "show(res)"
   ]
  },
  {
   "cell_type": "code",
   "execution_count": 6,
   "metadata": {},
   "outputs": [
    {
     "data": {
      "text/html": [
       "<html><script type=\"math/tex; mode=display\">\\newcommand{\\Bold}[1]{\\mathbf{#1}}\\left[\\left[c_{1} = -\\frac{1}{5} \\, \\sqrt{5}, c_{2} = \\frac{1}{5} \\, \\sqrt{5}\\right]\\right]</script></html>"
      ],
      "text/plain": [
       "[[c1 == -1/5*sqrt(5), c2 == 1/5*sqrt(5)]]"
      ]
     },
     "metadata": {},
     "output_type": "display_data"
    },
    {
     "data": {
      "text/html": [
       "<html><script type=\"math/tex; mode=display\">\\newcommand{\\Bold}[1]{\\mathbf{#1}}-\\frac{1}{5} \\, \\sqrt{5} \\phantom{\\verb!xxxx!}\\verb|_| \\frac{1}{5} \\, \\sqrt{5}</script></html>"
      ],
      "text/plain": [
       "-1/5*sqrt(5) '    _    ' 1/5*sqrt(5)"
      ]
     },
     "metadata": {},
     "output_type": "display_data"
    }
   ],
   "source": [
    "eq3 = (c1*(a1**0)) + (c2*(a2**0)) == 0\n",
    "eq4 = (c1*(a1**1)) + (c2*(a2**1)) == 1\n",
    "\n",
    "res = solve((eq3,eq4),(c1,c2))\n",
    "show(res)\n",
    "\n",
    "c1 = res[0][0].rhs()\n",
    "c2 = res[0][1].rhs()\n",
    "show(c1, \"    _    \",c2)"
   ]
  },
  {
   "cell_type": "markdown",
   "metadata": {
    "deletable": false,
    "editable": false,
    "run_control": {
     "frozen": true
    }
   },
   "source": [
    "### Question\n",
    "1. D'après les résultats précédents, définir une fonction $G$ telle que $G(n) = F_n$ pour tout $n$.\n",
    "2. Vérifier que la fonction trouvée est correcte, pour tout $n < 100$.\n",
    "3. Tracer $F(n)/G(n)$ pour $n = 1$ à $100$, où $F$ est la fonction numérique définie à la question **1.6.**, et vérifier que la fonction $F$ était à peu près correcte."
   ]
  },
  {
   "cell_type": "code",
   "execution_count": 7,
   "metadata": {},
   "outputs": [
    {
     "data": {
      "text/html": [
       "<html><script type=\"math/tex; mode=display\">\\newcommand{\\Bold}[1]{\\mathbf{#1}}n \\ {\\mapsto}\\ \\frac{1}{5} \\, \\sqrt{5} {\\left(\\frac{1}{2} \\, \\sqrt{5} + \\frac{1}{2}\\right)}^{n} - \\frac{1}{5} \\, \\sqrt{5} {\\left(-\\frac{1}{2} \\, \\sqrt{5} + \\frac{1}{2}\\right)}^{n}</script></html>"
      ],
      "text/plain": [
       "n |--> 1/5*sqrt(5)*(1/2*sqrt(5) + 1/2)^n - 1/5*sqrt(5)*(-1/2*sqrt(5) + 1/2)^n"
      ]
     },
     "metadata": {},
     "output_type": "display_data"
    }
   ],
   "source": [
    "var('n')\n",
    "G(n) = (c2 * (a2**n)) + (c1 * (a1**n))\n",
    "show(G)"
   ]
  },
  {
   "cell_type": "code",
   "execution_count": 13,
   "metadata": {},
   "outputs": [
    {
     "name": "stdout",
     "output_type": "stream",
     "text": [
      "0   _   0 0.000000000000000\n",
      "1   _   1 1.00000000000000\n",
      "2   _   1 1.00000000000000\n",
      "3   _   2 2.00000000000000\n",
      "4   _   3 3.00000000000000\n",
      "5   _   5 5.00000000000000\n",
      "6   _   8 8.00000000000000\n",
      "7   _   13 13.0000000000000\n",
      "8   _   21 21.0000000000000\n",
      "9   _   34 34.0000000000000\n",
      "10   _   55 55.0000000000000\n",
      "11   _   89 89.0000000000000\n",
      "12   _   144 144.000000000000\n",
      "13   _   233 233.000000000000\n",
      "14   _   377 377.000000000000\n",
      "15   _   610 610.000000000000\n",
      "16   _   987 987.000000000001\n",
      "17   _   1597 1597.00000000000\n",
      "18   _   2584 2584.00000000000\n",
      "19   _   4181 4181.00000000000\n",
      "20   _   6765 6765.00000000000\n",
      "21   _   10946 10946.0000000000\n",
      "22   _   17711 17711.0000000000\n",
      "23   _   28657 28657.0000000000\n",
      "24   _   46368 46368.0000000000\n",
      "25   _   75025 75025.0000000001\n",
      "26   _   121393 121393.000000000\n",
      "27   _   196418 196418.000000000\n",
      "28   _   317811 317811.000000000\n",
      "29   _   514229 514229.000000001\n",
      "30   _   832040 832040.000000001\n",
      "31   _   1346269 1.34626900000000e6\n",
      "32   _   2178309 2.17830900000000e6\n",
      "33   _   3524578 3.52457800000000e6\n",
      "34   _   5702887 5.70288700000001e6\n",
      "35   _   9227465 9.22746500000001e6\n",
      "36   _   14930352 1.49303520000000e7\n",
      "37   _   24157817 2.41578170000000e7\n",
      "38   _   39088169 3.90881690000001e7\n",
      "39   _   63245986 6.32459860000001e7\n",
      "40   _   102334155 1.02334155000000e8\n",
      "41   _   165580141 1.65580141000000e8\n",
      "42   _   267914296 2.67914296000000e8\n",
      "43   _   433494437 4.33494437000001e8\n",
      "44   _   701408733 7.01408733000001e8\n",
      "45   _   1134903170 1.13490317000000e9\n",
      "46   _   1836311903 1.83631190300000e9\n",
      "47   _   2971215073 2.97121507300000e9\n",
      "48   _   4807526976 4.80752697600001e9\n",
      "49   _   7778742049 7.77874204900001e9\n",
      "50   _   12586269025 1.25862690250000e10\n",
      "51   _   20365011074 2.03650110740000e10\n",
      "52   _   32951280099 3.29512800990001e10\n",
      "53   _   53316291173 5.33162911730001e10\n",
      "54   _   86267571272 8.62675712720002e10\n",
      "55   _   139583862445 1.39583862445000e11\n",
      "56   _   225851433717 2.25851433717000e11\n",
      "57   _   365435296162 3.65435296162001e11\n",
      "58   _   591286729879 5.91286729879001e11\n",
      "59   _   956722026041 9.56722026041002e11\n",
      "60   _   1548008755920 1.54800875592000e12\n",
      "61   _   2504730781961 2.50473078196101e12\n",
      "62   _   4052739537881 4.05273953788101e12\n",
      "63   _   6557470319842 6.55747031984201e12\n",
      "64   _   10610209857723 1.06102098577230e13\n",
      "65   _   17167680177565 1.71676801775650e13\n",
      "66   _   27777890035288 2.77778900352881e13\n",
      "67   _   44945570212853 4.49455702128531e13\n",
      "68   _   72723460248141 7.27234602481412e13\n",
      "69   _   117669030460994 1.17669030460994e14\n",
      "70   _   190392490709135 1.90392490709135e14\n",
      "71   _   308061521170129 3.08061521170130e14\n",
      "72   _   498454011879264 4.98454011879265e14\n",
      "73   _   806515533049393 8.06515533049395e14\n",
      "74   _   1304969544928657 1.30496954492866e15\n",
      "75   _   2111485077978050 2.11148507797806e15\n",
      "76   _   3416454622906707 3.41645462290672e15\n",
      "77   _   5527939700884757 5.52793970088477e15\n",
      "78   _   8944394323791464 8.94439432379149e15\n",
      "79   _   14472334024676221 1.44723340246763e16\n",
      "80   _   23416728348467685 2.34167283484677e16\n",
      "81   _   37889062373143906 3.78890623731440e16\n",
      "82   _   61305790721611591 6.13057907216118e16\n",
      "83   _   99194853094755497 9.91948530947558e16\n",
      "84   _   160500643816367088 1.60500643816368e17\n",
      "85   _   259695496911122585 2.59695496911123e17\n",
      "86   _   420196140727489673 4.20196140727491e17\n",
      "87   _   679891637638612258 6.79891637638614e17\n",
      "88   _   1100087778366101931 1.10008777836611e18\n",
      "89   _   1779979416004714189 1.77997941600472e18\n",
      "90   _   2880067194370816120 2.88006719437083e18\n",
      "91   _   4660046610375530309 4.66004661037555e18\n",
      "92   _   7540113804746346429 7.54011380474637e18\n",
      "93   _   12200160415121876738 1.22001604151219e19\n",
      "94   _   19740274219868223167 1.97402742198683e19\n",
      "95   _   31940434634990099905 3.19404346349902e19\n",
      "96   _   51680708854858323072 5.16807088548585e19\n",
      "97   _   83621143489848422977 8.36211434898487e19\n",
      "98   _   135301852344706746049 1.35301852344707e20\n",
      "99   _   218922995834555169026 2.18922995834556e20\n"
     ]
    }
   ],
   "source": [
    "F = liste_fibonacci(100)\n",
    "for i in range(0,100):\n",
    "    print(i , \"  _  \" , F[i] , G(i).n())"
   ]
  },
  {
   "cell_type": "code",
   "execution_count": 48,
   "metadata": {},
   "outputs": [
    {
     "data": {
      "image/png": "[encoded data removed]",
      "text/plain": [
       "Graphics object consisting of 1 graphics primitive"
      ]
     },
     "execution_count": 48,
     "metadata": {},
     "output_type": "execute_result"
    }
   ],
   "source": [
    "L = [fib(n)/G(n) for n in range(1,100)]\n",
    "\n",
    "list_plot(L)\n"
   ]
  },
  {
   "cell_type": "markdown",
   "metadata": {
    "deletable": false,
    "editable": false,
    "run_control": {
     "frozen": true
    }
   },
   "source": [
    "## Suites récurrentes linéaires à coefficients constants\n",
    "\n",
    "Dans cette partie, on essaie de répéter les mêmes étapes que celles effectuées pour la suite de Fibonacci, mais avec une suite récurrente linéaire quelconque. De manière générale, une telle suite $(u_n)_{n\\ge 0}$ est définie par $k$ valeurs $u_0$, ..., $u_{k-1}$ et une récurrence d'*ordre $k$* de la forme\n",
    "$$u_{n+k} = a_0u_{n}+a_1u_{n+1}+\\dotsb +a_{k-1}u_{n+k-1}$$\n",
    "pour $n\\ge 0$. Ainsi la suite récurrente $(u_n)$ d'*ordre $k$* est définie par \n",
    "- les $k$ *conditions initiales* $u_0$, ..., $u_{k-1}$;\n",
    "- les $k$ coefficients de l'*équation de récurrence* $a_0$, ..., $a_{k-1}$.\n"
   ]
  },
  {
   "cell_type": "markdown",
   "metadata": {
    "deletable": false,
    "editable": false,
    "run_control": {
     "frozen": true
    }
   },
   "source": [
    "### Question\n",
    "Identifier l'ordre $k$, les conditions initiales et les coefficients de l'équation de récurrence, dans le cas de la suite de Fibonacci."
   ]
  },
  {
   "cell_type": "markdown",
   "metadata": {
    "tags": [
     "corrige"
    ]
   },
   "source": []
  },
  {
   "cell_type": "markdown",
   "metadata": {
    "deletable": false,
    "editable": false,
    "run_control": {
     "frozen": true
    }
   },
   "source": [
    "### Question\n",
    "1. Écrire une fonction `suivant`, qui prend en entrée une liste de $k$ termes $u_n$, ..., $u_{n+k-1}$ et la liste des $k$ coefficients $a_0$, ..., $a_{k-1}$, et renvoie le terme $u_{n+k}$. *Vous devez vérifier que les deux listes sont de même taille.*\n",
    "2. En déduire une fonction `liste_termes` qui prend en entrée des conditions initiales et les coefficients de l'équation de récurrence d'une suite $(u_n)$, ainsi qu'un entier $N$, et renvoie la liste $[u_0, ..., u_N]$.\n",
    "3. Vérifier votre fonction en l'appliquant à la suite de Fibonacci et comparant au résultat renvoyé par `liste_fibonacci`."
   ]
  },
  {
   "cell_type": "code",
   "execution_count": 50,
   "metadata": {},
   "outputs": [],
   "source": [
    "def suivant(L,K):\n",
    "    if not(len(L) == len(K)):\n",
    "        print(\"Les listes n'ont pas la meme taille\")\n",
    "        return 0\n",
    "    \n",
    "    LK = [L[i] * K[i] for i in range(0,len(L))]\n",
    "    c = 0\n",
    "    for i in range(0,len(LK)-1):\n",
    "        c += LK[i]\n",
    "    return c\n",
    "\n"
   ]
  },
  {
   "cell_type": "code",
   "execution_count": null,
   "metadata": {},
   "outputs": [],
   "source": [
    "def liste_termes(U,K)"
   ]
  },
  {
   "cell_type": "code",
   "execution_count": null,
   "metadata": {},
   "outputs": [],
   "source": []
  },
  {
   "cell_type": "markdown",
   "metadata": {
    "deletable": false,
    "editable": false,
    "run_control": {
     "frozen": true
    }
   },
   "source": [
    "### Question\n",
    "Soit $(u_n)$ définie par $u_{n+5} = 3u_{n+2} + u_n$, avec $u_0 = u_1 = u_2 = u_3 = u_4 = 1$.\n",
    "1. Calculer les 100 premiers termes de la suite $(u_n)$.\n",
    "1. Représenter graphiquement ces points, et éventuellement leur logarithme.\n",
    "1. Déterminer numériquement, comme on l'a fait pour la suite de Fibonacci, deux constantes $c$ et $\\alpha$ telles que $u_n$ soit environ égal à $c \\alpha^n$. *Utiliser le graphique, puis `find_fit`.\n",
    "1. Superposer le tracé de la fonction $f(n) = c\\alpha^n$ avec les points calculés, pour vérifier que le résultat est  peu près correct."
   ]
  },
  {
   "cell_type": "code",
   "execution_count": null,
   "metadata": {},
   "outputs": [],
   "source": []
  },
  {
   "cell_type": "code",
   "execution_count": null,
   "metadata": {},
   "outputs": [],
   "source": []
  },
  {
   "cell_type": "code",
   "execution_count": null,
   "metadata": {},
   "outputs": [],
   "source": []
  },
  {
   "cell_type": "code",
   "execution_count": null,
   "metadata": {},
   "outputs": [],
   "source": []
  },
  {
   "cell_type": "markdown",
   "metadata": {
    "deletable": false,
    "editable": false,
    "run_control": {
     "frozen": true
    }
   },
   "source": [
    "## Calcul exact de suites récurrentes linéaires à coefficients constants\n",
    "Mathématiquement, on sait résoudre complètement les suites récurrentes à coefficients constants. Si $(u_n)$ vérifie $u_{n+k} = a_0u_{n}+a_1u_{n+1}+\\dotsb +a_{k-1}u_{n+k-1}$, on définit le *polynôme caractéristique* de $(u_n)$ par $P_u(X) = X^k - (a_{k-1} X^{k-1} + a_{k-2} X^{k-2} + \\dotsb a_1 X + a_0)$. Ses racines permettent de trouver le terme général de la suite."
   ]
  },
  {
   "cell_type": "markdown",
   "metadata": {
    "deletable": false,
    "editable": false,
    "run_control": {
     "frozen": true
    }
   },
   "source": [
    "### Question\n",
    "1. Définir l'anneau des polynômes en une variable à coefficients rationnels, avec la commande `R.<X> = QQ[]`.\n",
    "1. Écrire une fonction `poly_car` qui, étant donné les coefficients $a_0$, …, $a_{k-1}$ d'une suite récurrente linéaire, renvoie le polynôme caractéristique de cette suite.\n",
    "1. Calculer le polynôme caractéristique $P_F$ de la suite de Fibonacci. Calculer ses racines. *Remarque : le polynôme n'a pas de racines rationnelles, il faut donc calculer ses racines dans un ensemble plus grand avec `P_F.roots(...)`, où les `...` doivent être remplacés par le bon ensemble.*\n",
    "1. Calculer de même le polynôme caractéristique de la suite de la question précédente ($u_{n+5} = 3u_{n+2}+u_n$) ainsi que ses racines (de manière approchée). Quelle valeur calculée précédemment retrouvez-vous approximativement ?"
   ]
  },
  {
   "cell_type": "code",
   "execution_count": null,
   "metadata": {},
   "outputs": [],
   "source": []
  },
  {
   "cell_type": "code",
   "execution_count": null,
   "metadata": {},
   "outputs": [],
   "source": []
  },
  {
   "cell_type": "code",
   "execution_count": null,
   "metadata": {},
   "outputs": [],
   "source": []
  },
  {
   "cell_type": "code",
   "execution_count": null,
   "metadata": {},
   "outputs": [],
   "source": []
  },
  {
   "cell_type": "markdown",
   "metadata": {
    "deletable": false,
    "editable": false,
    "run_control": {
     "frozen": true
    }
   },
   "source": [
    "### Question\n",
    "La théorie des suites récurrentes linéaires à coefficients constants fournit la valeur de $u_n$ en fonction des racines de son polynôme caractéristique $P$. Si le polynôme possède $k$ racines distintes $r_1$, …, $r_k$, alors $u_n = c_1 r_1^n + c_2 r_2^n + \\dotsb + c_kr_k^n$. Les coefficients $c_i$ sont déterminés par les valeurs initiales de la suite, $u_0$ à $u_{k-1}$.\n",
    "1. Écrire une fonction `terme_general` qui prend en entrée les coefficients $a_0$, …, $a_{k-1}$ d'une suite récurrente linéaire, et renvoie le terme général de la suite *si toutes les racines de son polynôme caractéristique sont distinctes* (c'est-à-dire de multiplicité $1$). Si le polynôme caractéristique n'a pas que des racines simples, on soulèvera une exception avec `raise ValueError(\"le polynôme a des racines multiples\")`. _**Remarque importante.** La fonction ne prend pas en entrée les valeurs initiales : elle doit donc renvoyer une expression avec des variables symboliques $c_i$. Pour en définir $k$ d'un coup (ici $4$), il faut créer une chaîne de caractère `\"c0 c1 c2 c3\"` puis appeler `c = var(\"c0 c1 c2 c3\")` : on obtient `c3` avec `c[3]` par exemple._\n",
    "1. Tester la fonction avec la suite de Fibonacci, et la suite $u_{n+5} = 3u_{n+2} + u_n$."
   ]
  },
  {
   "cell_type": "code",
   "execution_count": null,
   "metadata": {},
   "outputs": [],
   "source": []
  },
  {
   "cell_type": "code",
   "execution_count": null,
   "metadata": {},
   "outputs": [],
   "source": []
  },
  {
   "cell_type": "code",
   "execution_count": null,
   "metadata": {},
   "outputs": [],
   "source": []
  },
  {
   "cell_type": "code",
   "execution_count": null,
   "metadata": {},
   "outputs": [],
   "source": []
  },
  {
   "cell_type": "code",
   "execution_count": null,
   "metadata": {},
   "outputs": [],
   "source": []
  },
  {
   "cell_type": "code",
   "execution_count": null,
   "metadata": {},
   "outputs": [],
   "source": []
  },
  {
   "cell_type": "markdown",
   "metadata": {
    "deletable": false,
    "editable": false,
    "run_control": {
     "frozen": true
    }
   },
   "source": [
    "### Question\n",
    "Afin d'obtenir la valeur finale de $u_n$, il faut prendre en compte les conditions initiales $u_0$, …, $u_{k-1}$. Pour cela, si on a trouvé une fonction $U(n)$ avec des variables symboliques $c_i$, il faut résoudre $U(i) = u_i$ pour $i =0$ à $k-1$ pour trouver les valeurs des $c_i$.\n",
    "1. À la main, résoudre les équations pour la suite de Fibonacci, et trouver l'expression de $F_n$. L'évaluer sur $n=0$ à $10$ pour vérifier que c'est correct.\n",
    "1. Écrire une fonction `conditions_initiales` qui prend en entrée l'expression renvoyée par `terme_general` et la liste $[u_0, \\dots, u_{k-1}]$ des conditions initiales, et renvoie l'expression modifiée en remplaçant les $c_i$ par leurs valeurs. *On peut obtenir la liste des variables d'une expression avec `expr.variables()`.*\n",
    "1. Appliquer la fonction sur le terme général de Fibonacci et de la suite $u_{n+5} = 3u_{n+2} + u_n$ avec $u_k = 1$ pour $k < 5$.\n",
    "1. Vérifiez qu'on retrouve bien (environ) les bonnes valeurs des suites. Comment expliquer que les valeurs ne soient pas tout à fait correctes ?"
   ]
  },
  {
   "cell_type": "code",
   "execution_count": null,
   "metadata": {},
   "outputs": [],
   "source": []
  },
  {
   "cell_type": "code",
   "execution_count": null,
   "metadata": {},
   "outputs": [],
   "source": []
  },
  {
   "cell_type": "code",
   "execution_count": null,
   "metadata": {},
   "outputs": [],
   "source": []
  },
  {
   "cell_type": "code",
   "execution_count": null,
   "metadata": {},
   "outputs": [],
   "source": []
  },
  {
   "cell_type": "markdown",
   "metadata": {
    "deletable": false,
    "editable": false,
    "run_control": {
     "frozen": true
    }
   },
   "source": [
    "### Question\n",
    "Quand les racines du polynôme caractéristique d'une suite ne sont pas toutes distinctes, l'expression de $u_n$ est un peu différente. En supposant que le polynôme caractéristique $P$ de la suite $(u_n)$ admette $t$ racines $r_1$, …, $r_t$ de multiplicités $m_1$, …, $m_t$, alors $u_n = p_1(n) r_1^n + p_2(n) r_2^n + … + p_t(n) r_t^n$ où $p_i(n)$ est un polynôme de degré $< m_i$. Donc $p_i(n)$ peut s'écrire $c_0 + c_1 x + c_2 x^2 + \\dotsb + c_{m_i-1} x^{m_i-1}$.\n",
    "\n",
    "1. Reprendre la fonction `terme_général` pour qu'elle fonctionne avec des polynômes à racines multiples. *Remarque : le nombre de variables symboliques nécessaires reste toujours le même, à savoir $k$.*\n",
    "1. Vérifier qu'elle fonctionne toujours pour les deux suites étudiées.\n",
    "1. Tester la fonction avec la suite $(v_n)$ définie par $v_{n+2} = 2v_{n+1}-v_n$."
   ]
  },
  {
   "cell_type": "code",
   "execution_count": null,
   "metadata": {},
   "outputs": [],
   "source": []
  },
  {
   "cell_type": "code",
   "execution_count": null,
   "metadata": {},
   "outputs": [],
   "source": []
  },
  {
   "cell_type": "code",
   "execution_count": null,
   "metadata": {},
   "outputs": [],
   "source": []
  },
  {
   "cell_type": "markdown",
   "metadata": {
    "deletable": false,
    "editable": false,
    "run_control": {
     "frozen": true
    }
   },
   "source": [
    "### Question\n",
    "1. En adaptant si besoin la fonction `conditions_initiales` pour qu'elle fonctionne quand les polynômes caractéristiques ont des racines multiples, écrire une fonction `resolution` qui prend en entrée les coefficients $a_0$, …, $a_k$ d'une suite récurrente linéaire et les conditions initiales $u_0$, …, $u_{k-1}$, et renvoie l'expression de $u_n$ en fonction de $n$.\n",
    "\n",
    "1. Appliquer la fonction `resolution` dans les cas suivants, et vérifier à chaque fois si l'expression produit bien les bonnes valeurs de la suite :\n",
    "    - suite de Fibonacci ;\n",
    "    - suite $u_{n+5} = 3u_{n+2} + u_n$ avec $u_k = 1$ pour $k < 4$ ;\n",
    "    - suite $v_{n+2} = 2v_{n+1}-v_n$ avec $v_0 = 1$ et $v_1 = -1$ ;\n",
    "    - suite $w_{n+3} = 3w_{n+1}+2w_n$ avec $w_k = k$ pour $k < 3$."
   ]
  },
  {
   "cell_type": "code",
   "execution_count": null,
   "metadata": {},
   "outputs": [],
   "source": []
  },
  {
   "cell_type": "code",
   "execution_count": null,
   "metadata": {},
   "outputs": [],
   "source": []
  },
  {
   "cell_type": "code",
   "execution_count": null,
   "metadata": {},
   "outputs": [],
   "source": []
  },
  {
   "cell_type": "code",
   "execution_count": null,
   "metadata": {},
   "outputs": [],
   "source": []
  },
  {
   "cell_type": "code",
   "execution_count": null,
   "metadata": {},
   "outputs": [],
   "source": []
  },
  {
   "cell_type": "markdown",
   "metadata": {
    "deletable": false,
    "editable": false,
    "run_control": {
     "frozen": true
    }
   },
   "source": [
    "## Calcul rapide de suites récurrentes linéaires\n",
    "\n",
    "On a trouvé dans la partie **1.** la valeur maximale de $n$ pour laquelle on arrive à calculer le $n$^ème^ terme de la suite de Fibonacci. L'objectif de cette partie est d'accélérer ces calculs."
   ]
  },
  {
   "cell_type": "markdown",
   "metadata": {
    "deletable": false,
    "editable": false,
    "run_control": {
     "frozen": true
    }
   },
   "source": [
    "### Question\n",
    "Pour accélérer les calculs (pour une suite récurrente quelconque), on remarque que l'équation $u_{n+k} = a_0u_n+\\dotsb+a_{k-1}u_{n+k-1}$ s'écrit de la manière matricielle suivante :\n",
    "$$\\begin{pmatrix} u_{n+1}\\\\u_{n+2}\\\\\\vdots\\\\u_{n+k-1}\\\\u_{n+k}\\end{pmatrix} \n",
    " = \\begin{pmatrix}\n",
    "     0 & 1 & 0 & \\dots & 0 \\\\\n",
    "     0 & 0 & 1 & \\dots & 0 \\\\\n",
    "       &   &   & \\ddots\\\\\n",
    "     0 & 0 & 0 & \\dots & 1 \\\\\n",
    "     a_0 & a_1 & a_2 & \\dots & a_{k-1}\n",
    "   \\end{pmatrix}\n",
    " \\begin{pmatrix} u_{n}\\\\u_{n+1}\\\\\\vdots\\\\u_{n+k-2}\\\\u_{n+k-1}\\end{pmatrix} $$\n",
    " \n",
    " 1. Écrire une fonction `matrice` qui prend en entrée les coefficients d'une équation de récurrence et renvoie la matrice correspondante. *La construction `matrix(n,n)` construit une matrice de dimensions $n\\times n$ remplie de $0$.*\n",
    " 1. Utiliser la matrice pour calculer les 10 premiers termes de la suite de Fibonacci, et vérifier qu'on obtient bien le bon résultat. *Il faut faire un produit matrice-vecteur : pour cela, il faut transformer une liste de conditions initiales `U` en un vecteur avec `vector(U)`.*\n",
    " 2. Quelle matrice doit-on appliquer au vecteur pour passer directement de $[u_0,\\dots,u_{k-1}]$ à $[u_k,\\dots,u_{2k-1}]$ ? Vérifier sur l'exemple de Fibonacci, et sur la suite $v_{n+5} = 3v_{n+2}+v_n$ avec $v_k = 1$ pour $k < 5$."
   ]
  },
  {
   "cell_type": "code",
   "execution_count": null,
   "metadata": {},
   "outputs": [],
   "source": []
  },
  {
   "cell_type": "code",
   "execution_count": null,
   "metadata": {},
   "outputs": [],
   "source": []
  },
  {
   "cell_type": "code",
   "execution_count": null,
   "metadata": {},
   "outputs": [],
   "source": []
  },
  {
   "cell_type": "markdown",
   "metadata": {
    "deletable": false,
    "editable": false,
    "run_control": {
     "frozen": true
    }
   },
   "source": [
    "### Question\n",
    "De manière générale, si on note $M$ la matrice associée à une récurrence $u_{n+k} = a_0u_n+\\dotsb+a_{k-1}u_{n+k-1}$, et $\\vec u_{[n,n+k[}$ le vecteur $(u_n,\\dotsc,u_{n+k-1})$, on a l'égalité $\\vec u_{[n+t,n+t+k[} = M^t \\vec u_{[n,n+k[}$.\n",
    "1. Utiliser la puissance de matrices proposée dans SageMath pour calculer $(F_{10000},F_{10001})$ où $F_k$ est le $k$-ème nombre de Fibonacci. *Comparer le temps de calcul avec votre fonction `fibonacci` à l'aide de la « commande magique » `%time`.*\n",
    "2. Si on suppose qu'on ne dispose pas de puissance de matrice, mais simplement du produit de matrices, quel algorithme peut-on utiliser pour faire le calcul rapidement ? *Coder l'algorithme et comparer le temps de calcul avec la question précédente.*"
   ]
  },
  {
   "cell_type": "code",
   "execution_count": null,
   "metadata": {},
   "outputs": [],
   "source": []
  },
  {
   "cell_type": "code",
   "execution_count": null,
   "metadata": {},
   "outputs": [],
   "source": []
  }
 ],
 "metadata": {
  "celltoolbar": "Aucun(e)",
  "kernelspec": {
   "display_name": "SageMath 9.0",
   "language": "sage",
   "name": "sagemath"
  },
  "language_info": {
   "codemirror_mode": {
    "name": "ipython",
    "version": 3
   },
   "file_extension": ".py",
   "mimetype": "text/x-python",
   "name": "python",
   "nbconvert_exporter": "python",
   "pygments_lexer": "ipython3",
   "version": "3.8.10"
  },
  "toc": {
   "base_numbering": 1,
   "nav_menu": {},
   "number_sections": true,
   "sideBar": true,
   "skip_h1_title": true,
   "title_cell": "Table of Contents",
   "title_sidebar": "Contents",
   "toc_cell": false,
   "toc_position": {
    "height": "904.867px",
    "left": "0px",
    "right": "20px",
    "top": "111.133px",
    "width": "265px"
   },
   "toc_section_display": "block",
   "toc_window_display": true
  }
 },
 "nbformat": 4,
 "nbformat_minor": 4
}
